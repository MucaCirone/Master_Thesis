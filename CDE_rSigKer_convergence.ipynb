{
  "nbformat": 4,
  "nbformat_minor": 0,
  "metadata": {
    "colab": {
      "name": "CDE_rSigKer_convergence.ipynb",
      "provenance": [],
      "collapsed_sections": [
        "8T0q2oOqGcd9"
      ],
      "authorship_tag": "ABX9TyPheeZhTqhDOKIwApgNMNnQ",
      "include_colab_link": true
    },
    "kernelspec": {
      "name": "python3",
      "display_name": "Python 3"
    },
    "language_info": {
      "name": "python"
    },
    "accelerator": "GPU",
    "gpuClass": "standard"
  },
  "cells": [
    {
      "cell_type": "markdown",
      "metadata": {
        "id": "view-in-github",
        "colab_type": "text"
      },
      "source": [
        "<a href=\"https://colab.research.google.com/github/MucaCirone/Master_Thesis/blob/main/CDE_rSigKer_convergence.ipynb\" target=\"_parent\"><img src=\"https://colab.research.google.com/assets/colab-badge.svg\" alt=\"Open In Colab\"/></a>"
      ]
    },
    {
      "cell_type": "markdown",
      "source": [
        "This notebook shows some empirical convergence results concerning Randomized Signature Kernels as discussed in my master's thesis."
      ],
      "metadata": {
        "id": "C7GKMT22M3NN"
      }
    },
    {
      "cell_type": "markdown",
      "source": [
        "# Importing Libraries"
      ],
      "metadata": {
        "id": "8T0q2oOqGcd9"
      }
    },
    {
      "cell_type": "code",
      "execution_count": 1,
      "metadata": {
        "id": "wki-yBKLGLJ2",
        "colab": {
          "base_uri": "https://localhost:8080/"
        },
        "outputId": "0e1626b0-5f80-408a-8de2-bd97658889bf"
      },
      "outputs": [
        {
          "output_type": "stream",
          "name": "stdout",
          "text": [
            "Looking in indexes: https://pypi.org/simple, https://us-python.pkg.dev/colab-wheels/public/simple/\n",
            "Collecting git+https://github.com/patrick-kidger/torchcde.git\n",
            "  Cloning https://github.com/patrick-kidger/torchcde.git to /tmp/pip-req-build-y0zu20fe\n",
            "  Running command git clone -q https://github.com/patrick-kidger/torchcde.git /tmp/pip-req-build-y0zu20fe\n",
            "Requirement already satisfied: torch>=1.7.0 in /usr/local/lib/python3.7/dist-packages (from torchcde==0.2.5) (1.12.1+cu113)\n",
            "Collecting torchdiffeq>=0.2.0\n",
            "  Downloading torchdiffeq-0.2.3-py3-none-any.whl (31 kB)\n",
            "Collecting torchsde>=0.2.5\n",
            "  Downloading torchsde-0.2.5-py3-none-any.whl (59 kB)\n",
            "\u001b[K     |████████████████████████████████| 59 kB 5.1 MB/s \n",
            "\u001b[?25hRequirement already satisfied: typing-extensions in /usr/local/lib/python3.7/dist-packages (from torch>=1.7.0->torchcde==0.2.5) (4.1.1)\n",
            "Requirement already satisfied: scipy>=1.4.0 in /usr/local/lib/python3.7/dist-packages (from torchdiffeq>=0.2.0->torchcde==0.2.5) (1.7.3)\n",
            "Requirement already satisfied: numpy<1.23.0,>=1.16.5 in /usr/local/lib/python3.7/dist-packages (from scipy>=1.4.0->torchdiffeq>=0.2.0->torchcde==0.2.5) (1.21.6)\n",
            "Collecting trampoline>=0.1.2\n",
            "  Downloading trampoline-0.1.2-py3-none-any.whl (5.2 kB)\n",
            "Collecting boltons>=20.2.1\n",
            "  Downloading boltons-21.0.0-py2.py3-none-any.whl (193 kB)\n",
            "\u001b[K     |████████████████████████████████| 193 kB 24.1 MB/s \n",
            "\u001b[?25hBuilding wheels for collected packages: torchcde\n",
            "  Building wheel for torchcde (setup.py) ... \u001b[?25l\u001b[?25hdone\n",
            "  Created wheel for torchcde: filename=torchcde-0.2.5-py3-none-any.whl size=28902 sha256=c3ae3a9f5b05f714a59c51f98d5f45c1a3700b1f493418a2efed252a6c95e156\n",
            "  Stored in directory: /tmp/pip-ephem-wheel-cache-c65zal2l/wheels/57/9e/98/bdb1daad21c5227d3460cdc8cc0dd9e6cb6ef8aeafbcc8505d\n",
            "Successfully built torchcde\n",
            "Installing collected packages: trampoline, boltons, torchsde, torchdiffeq, torchcde\n",
            "Successfully installed boltons-21.0.0 torchcde-0.2.5 torchdiffeq-0.2.3 torchsde-0.2.5 trampoline-0.1.2\n",
            "Looking in indexes: https://pypi.org/simple, https://us-python.pkg.dev/colab-wheels/public/simple/\n",
            "Collecting git+https://github.com/crispitagorico/sigkernel.git\n",
            "  Cloning https://github.com/crispitagorico/sigkernel.git to /tmp/pip-req-build-i4s6d8q6\n",
            "  Running command git clone -q https://github.com/crispitagorico/sigkernel.git /tmp/pip-req-build-i4s6d8q6\n",
            "Requirement already satisfied: cython>=0.29 in /usr/local/lib/python3.7/dist-packages (from sigkernel==0.0.1) (0.29.32)\n",
            "Requirement already satisfied: numba>=0.50 in /usr/local/lib/python3.7/dist-packages (from sigkernel==0.0.1) (0.56.0)\n",
            "Requirement already satisfied: torch>=1.6.0 in /usr/local/lib/python3.7/dist-packages (from sigkernel==0.0.1) (1.12.1+cu113)\n",
            "Requirement already satisfied: scikit-learn in /usr/local/lib/python3.7/dist-packages (from sigkernel==0.0.1) (1.0.2)\n",
            "Collecting tslearn\n",
            "  Downloading tslearn-0.5.2-cp37-cp37m-manylinux_2_5_x86_64.manylinux1_x86_64.manylinux_2_12_x86_64.manylinux2010_x86_64.whl (793 kB)\n",
            "\u001b[K     |████████████████████████████████| 793 kB 4.2 MB/s \n",
            "\u001b[?25hRequirement already satisfied: scipy in /usr/local/lib/python3.7/dist-packages (from sigkernel==0.0.1) (1.7.3)\n",
            "Requirement already satisfied: llvmlite<0.40,>=0.39.0dev0 in /usr/local/lib/python3.7/dist-packages (from numba>=0.50->sigkernel==0.0.1) (0.39.0)\n",
            "Requirement already satisfied: importlib-metadata in /usr/local/lib/python3.7/dist-packages (from numba>=0.50->sigkernel==0.0.1) (4.12.0)\n",
            "Requirement already satisfied: setuptools in /usr/local/lib/python3.7/dist-packages (from numba>=0.50->sigkernel==0.0.1) (57.4.0)\n",
            "Requirement already satisfied: numpy<1.23,>=1.18 in /usr/local/lib/python3.7/dist-packages (from numba>=0.50->sigkernel==0.0.1) (1.21.6)\n",
            "Requirement already satisfied: typing-extensions in /usr/local/lib/python3.7/dist-packages (from torch>=1.6.0->sigkernel==0.0.1) (4.1.1)\n",
            "Requirement already satisfied: zipp>=0.5 in /usr/local/lib/python3.7/dist-packages (from importlib-metadata->numba>=0.50->sigkernel==0.0.1) (3.8.1)\n",
            "Requirement already satisfied: threadpoolctl>=2.0.0 in /usr/local/lib/python3.7/dist-packages (from scikit-learn->sigkernel==0.0.1) (3.1.0)\n",
            "Requirement already satisfied: joblib>=0.11 in /usr/local/lib/python3.7/dist-packages (from scikit-learn->sigkernel==0.0.1) (1.1.0)\n",
            "Building wheels for collected packages: sigkernel\n",
            "  Building wheel for sigkernel (setup.py) ... \u001b[?25l\u001b[?25hdone\n",
            "  Created wheel for sigkernel: filename=sigkernel-0.0.1-cp37-cp37m-linux_x86_64.whl size=276424 sha256=e4a8d76505bbbe49376ed6eda4ec782884577a4dd7dd4952f8ce23ca9d54a319\n",
            "  Stored in directory: /tmp/pip-ephem-wheel-cache-msbn4ckt/wheels/64/28/de/9c6a353b52fc67cb4988ebd7a5b762e476edaa0af110d23493\n",
            "Successfully built sigkernel\n",
            "Installing collected packages: tslearn, sigkernel\n",
            "Successfully installed sigkernel-0.0.1 tslearn-0.5.2\n"
          ]
        }
      ],
      "source": [
        "!pip install git+https://github.com/patrick-kidger/torchcde.git\n",
        "!pip install git+https://github.com/crispitagorico/sigkernel.git"
      ]
    },
    {
      "cell_type": "code",
      "source": [
        "import torch\n",
        "import torchcde\n",
        "from tqdm import tqdm\n",
        "\n",
        "import numpy as np\n",
        "import scipy as sp\n",
        "from matplotlib import pyplot as plt\n",
        "from scipy import linalg\n",
        "import random\n",
        "\n",
        "\n",
        "from sklearn.model_selection import train_test_split, GridSearchCV, TimeSeriesSplit\n",
        "from sklearn.metrics import mean_absolute_error\n",
        "from sklearn.svm import SVR\n",
        "\n",
        "import matplotlib.pyplot as plt\n",
        "\n",
        "import seaborn as sns\n",
        "import scipy\n",
        "import sklearn.metrics as metrics\n",
        "\n",
        "sns.set_context('notebook')\n",
        "\n",
        "import sigkernel\n",
        "\n",
        "device = torch.device(\"cuda:0\" if torch.cuda.is_available() else \"cpu\")\n",
        "print(device)"
      ],
      "metadata": {
        "colab": {
          "base_uri": "https://localhost:8080/"
        },
        "id": "VAX20B-wbfT_",
        "outputId": "a09f91fa-addf-4486-9c18-759bf96a5071"
      },
      "execution_count": 2,
      "outputs": [
        {
          "output_type": "stream",
          "name": "stdout",
          "text": [
            "cuda:0\n"
          ]
        }
      ]
    },
    {
      "cell_type": "markdown",
      "source": [
        "# rSig - CDE code"
      ],
      "metadata": {
        "id": "fyLshHsb1B4f"
      }
    },
    {
      "cell_type": "code",
      "source": [
        "def randomAbeta(n_vec: int, m: int, mean=0.0, sigma=0.03, distribution=torch.normal):\n",
        "    # Creates n_vec random mxm matrix A and mx1 vector beta\n",
        "    # Entries have distribution 'distribution'\n",
        "\n",
        "    A = []\n",
        "    beta = []\n",
        "    Gamma = []\n",
        "\n",
        "    for i in range(n_vec):\n",
        "        # B = 0.0*nilpotent(m) + np.random.normal(mean, sigma, size=(m, m))\n",
        "        B = distribution(mean, sigma, size=(m, m)).to(device)\n",
        "        A = A + [B]\n",
        "        b = distribution(mean, sigma, size=(1,m)).squeeze(0).to(device)\n",
        "        beta = beta + [b]\n",
        "        Gamma = Gamma + [torch.cat((B,b.unsqueeze(-1)),1)]\n",
        "\n",
        "\n",
        "    return [torch.stack(A),torch.stack(beta),torch.stack(Gamma)]"
      ],
      "metadata": {
        "id": "cAr7zf3FU3C0"
      },
      "execution_count": 3,
      "outputs": []
    },
    {
      "cell_type": "code",
      "source": [
        "class DrivingFields(torch.nn.Module):\n",
        "    def __init__(self, input_channels, hidden_channels, sigma = 1.0, bias = True):\n",
        "        ######################\n",
        "        # input_channels is the number of input channels in the data X. (Determined by the data.)\n",
        "        # hidden_channels is the number of channels for z_t. (Determined by you!)\n",
        "        ######################\n",
        "        super(DrivingFields, self).__init__()\n",
        "        self.input_channels = input_channels\n",
        "        self.hidden_channels = hidden_channels\n",
        "\n",
        "        _,_,self.Gamma = randomAbeta(input_channels,hidden_channels, sigma= sigma)\n",
        "        \n",
        "        if not bias:\n",
        "          self.Gamma[:,:,-1] = 0.\n",
        "\n",
        "    def forward(self, t, z):\n",
        "        # z : (batch, hidden_channels)\n",
        "        batch = z.shape[0]\n",
        "        z = torch.cat((z, torch.ones([batch,1]).to(device)),1) # z -> [z,1]\n",
        "        z = z.unsqueeze(-2).unsqueeze(-1) # (batch,n+1) -> (batch,1,n+1,1)\n",
        "        G = self.Gamma.expand(1,-1,-1,-1) # (d, n, n+1) -> (1, d, n, n+1)\n",
        "        res = torch.matmul(G,z) # (batch, d, n, 1) \n",
        "        res = res.squeeze(-1) # (batch, d, n, 1) -> (batch, d, n)\n",
        "        res = torch.swapaxes(res, -2, -1) # (batch, d, n) -> (batch, n, d)\n",
        "        # res = res.sigmoid()\n",
        "        return res"
      ],
      "metadata": {
        "id": "rwZTTzg3UPeK"
      },
      "execution_count": 4,
      "outputs": []
    },
    {
      "cell_type": "code",
      "source": [
        "######################\n",
        "# Next, we need to package CDEFunc up into a model that computes the integral.\n",
        "######################\n",
        "class rSig(torch.nn.Module):\n",
        "    def __init__(self, input_channels, hidden_channels, bias = True):\n",
        "        super(rSig, self).__init__()\n",
        "        sigma = 1/np.sqrt(hidden_channels)\n",
        "\n",
        "        self.input_channels = input_channels\n",
        "        self.hidden_channels = hidden_channels\n",
        "        self.fields = DrivingFields(input_channels, hidden_channels, sigma, bias)\n",
        "        self.z0 = sigma*torch.normal(0,1,size = [self.hidden_channels]).to(device)\n",
        "\n",
        "        \n",
        "\n",
        "    def forward(self, coeffs):\n",
        "        batch = coeffs.shape[0]\n",
        "        X = torchcde.interpolation_cubic.NaturalCubicSpline(coeffs)\n",
        "\n",
        "        ######################\n",
        "        # Easy to forget gotcha: Initial hidden state should be a function of the first observation.\n",
        "        ######################\n",
        "        X0 = X.evaluate(X.interval[0])\n",
        "        z0 = (self.z0).expand(batch, -1)\n",
        "\n",
        "        ######################\n",
        "        # Actually solve the CDE.\n",
        "        ######################\n",
        "        z_T = torchcde.cdeint(X=X,\n",
        "                              z0=z0,\n",
        "                              func=self.fields,\n",
        "                              t=X.interval)\n",
        "\n",
        "        ######################\n",
        "        # Both the initial value and the terminal value are returned from cdeint; extract just the terminal value,\n",
        "        # and then apply a linear map.\n",
        "        ######################\n",
        "        z_T = z_T[:, 1]\n",
        "        return z_T"
      ],
      "metadata": {
        "id": "cpD9P4zUhRjM"
      },
      "execution_count": 5,
      "outputs": []
    },
    {
      "cell_type": "markdown",
      "source": [
        "# Data"
      ],
      "metadata": {
        "id": "Od1TjIYJHAqF"
      }
    },
    {
      "cell_type": "markdown",
      "source": [
        "Cration of the datasets. Credit goes to Maud Lemercier (https://warwick.ac.uk/fac/sci/statistics/staff/research_students/mlemercier)."
      ],
      "metadata": {
        "id": "NFYrikA-HP1r"
      }
    },
    {
      "cell_type": "code",
      "source": [
        "def exponentiated_quadratic(xa, xb, sigma):\n",
        "    \"\"\"\n",
        "    Exponentiated quadratic  with σ = 1\n",
        "    i.e. exp ( - 1/2\\sigma * [squared euclidean distance matrix of elements in xa and xb])\n",
        "    \"\"\"\n",
        "    sq_norm = -0.5 * scipy.spatial.distance.cdist(xa, xb, 'sqeuclidean')\n",
        "    return np.exp(sq_norm/sigma)"
      ],
      "metadata": {
        "id": "LguamBQoGviR"
      },
      "execution_count": 6,
      "outputs": []
    },
    {
      "cell_type": "code",
      "source": [
        "# Synthetic data\n",
        "batch, len_x, len_y = 400, 10, 10\n",
        "\n",
        "# Independent variable samples\n",
        "U = np.expand_dims(np.linspace(-2, 2, len_x), 1)\n",
        "Sigma = exponentiated_quadratic(U, U, sigma=.25)  # Kernel of data points \n",
        "\n",
        "# Draw samples \n",
        "y1 = np.random.multivariate_normal(mean=np.zeros(len_x), cov=Sigma, size=batch)\n",
        "y2 = np.random.multivariate_normal(mean=np.zeros(len_x), cov=Sigma, size=batch)\n",
        "y3 = np.random.multivariate_normal(mean=np.zeros(len_x), cov=Sigma, size=batch)\n",
        "x1 = np.random.multivariate_normal(mean=np.zeros(len_x), cov=Sigma, size=batch)\n",
        "x2 = np.random.multivariate_normal(mean=np.zeros(len_x), cov=Sigma, size=batch)\n",
        "x3 = np.random.multivariate_normal(mean=np.zeros(len_x), cov=Sigma, size=batch)\n",
        "\n",
        "x = .15*np.stack([x1,x2,x3],axis=2)\n",
        "y = .15*np.stack([y1,y2,y3],axis=2)\n",
        "\n",
        "# x.shape  -- (400, 10, 3)"
      ],
      "metadata": {
        "id": "ViKUoWWLHDHX"
      },
      "execution_count": 8,
      "outputs": []
    },
    {
      "cell_type": "markdown",
      "source": [
        "# SigKer - computation\n"
      ],
      "metadata": {
        "id": "zYAOwxjjHqAZ"
      }
    },
    {
      "cell_type": "code",
      "source": [
        "# Specify the static kernel (for linear kernel use sigkernel.LinearKernel())\n",
        "static_kernel = sigkernel.LinearKernel()\n",
        "\n",
        "# Specify dyadic order for PDE solver (int > 0, default 0, the higher the more accurate but slower)\n",
        "dyadic_order = 4\n",
        "\n",
        "# Initialize the corresponding signature kernel\n",
        "signature_kernel = sigkernel.SigKernel(static_kernel, dyadic_order)\n",
        "\n",
        "# Compute signature kernel \"batch-wise\" (i.e. k(x_1,y_1),...,k(x_batch, y_batch))\n",
        "sk = signature_kernel.compute_kernel(torch.tensor(x), torch.tensor(y))"
      ],
      "metadata": {
        "id": "peBG5h0uHJn5"
      },
      "execution_count": 10,
      "outputs": []
    },
    {
      "cell_type": "markdown",
      "source": [
        "# rSig - computation"
      ],
      "metadata": {
        "id": "rCcMmEczH80i"
      }
    },
    {
      "cell_type": "markdown",
      "source": [
        "With Bias"
      ],
      "metadata": {
        "id": "Nxc3xWKhJIB1"
      }
    },
    {
      "cell_type": "code",
      "source": [
        "new_x = torch.tensor(x).to(device)\n",
        "new_y = torch.tensor(y).to(device)"
      ],
      "metadata": {
        "id": "lWS-EtKWHupP"
      },
      "execution_count": 22,
      "outputs": []
    },
    {
      "cell_type": "code",
      "source": [
        "MC_iterations = 25\n",
        "hidden_dim = 300\n",
        "\n",
        "prods = torch.zeros([new_x.shape[0]]).to(device)\n",
        "\n",
        "for m in tqdm(range(MC_iterations)):\n",
        "\n",
        "  model = rSig(input_channels = 3, hidden_channels = hidden_dim)\n",
        "  \n",
        "  coeffs_x = torchcde.natural_cubic_coeffs(new_x).float()\n",
        "  sigs_x = model.forward(coeffs_x)\n",
        "\n",
        "  coeffs_y = torchcde.natural_cubic_coeffs(new_y).float()\n",
        "  sigs_y = model.forward(coeffs_y)\n",
        "\n",
        "  prods += torch.matmul(sigs_x.unsqueeze(-2),sigs_y.unsqueeze(-1)).squeeze(-1).squeeze(-1)\n",
        "\n",
        "prods = prods/MC_iterations\n",
        "prods = prods.cpu().detach().numpy()"
      ],
      "metadata": {
        "colab": {
          "base_uri": "https://localhost:8080/"
        },
        "id": "tbMyPVzeqDJp",
        "outputId": "1de2f517-17a9-46d2-fe30-4d0906b8f510"
      },
      "execution_count": 41,
      "outputs": [
        {
          "output_type": "stream",
          "name": "stderr",
          "text": [
            "100%|██████████| 25/25 [00:14<00:00,  1.76it/s]\n"
          ]
        }
      ]
    },
    {
      "cell_type": "code",
      "source": [
        "new_sk = sk\n",
        "new_prods = prods \n",
        "\n",
        "plt.figure(figsize=(5,5))\n",
        "plt.scatter(new_sk, new_prods, edgecolors='blue', color='white')\n",
        "plt.plot(np.unique(new_sk), np.poly1d(np.polyfit(new_sk, new_prods, 1))(np.unique(new_sk)), color='blue', ls='--')\n",
        "plt.plot(np.unique(new_sk), 2*np.unique(new_sk) - 1,'k-')\n",
        "plt.xlabel('True')\n",
        "plt.ylabel('Randomized.')\n",
        "plt.show()\n",
        "print('R2:', metrics.r2_score(2*new_sk-1, new_prods))"
      ],
      "metadata": {
        "colab": {
          "base_uri": "https://localhost:8080/",
          "height": 357
        },
        "id": "1V-A0IUNIArG",
        "outputId": "90ab3c0f-89e8-4326-e010-c1e275de0d71"
      },
      "execution_count": 42,
      "outputs": [
        {
          "output_type": "display_data",
          "data": {
            "text/plain": [
              "<Figure size 360x360 with 1 Axes>"
            ],
            "image/png": "[encoded data removed]"
          },
          "metadata": {
            "needs_background": "light"
          }
        },
        {
          "output_type": "stream",
          "name": "stdout",
          "text": [
            "R2: 0.9936067423363815\n"
          ]
        }
      ]
    },
    {
      "cell_type": "markdown",
      "source": [
        "Without Bias"
      ],
      "metadata": {
        "id": "sEPFxaDsJKGY"
      }
    },
    {
      "cell_type": "code",
      "source": [
        "MC_iterations = 15\n",
        "hidden_dim = 250\n",
        "\n",
        "prods_ = torch.zeros([new_x.shape[0]]).to(device)\n",
        "\n",
        "for m in tqdm(range(MC_iterations)):\n",
        "\n",
        "  model = rSig(input_channels = 3, hidden_channels = hidden_dim, bias = False)\n",
        "  \n",
        "  coeffs_x = torchcde.natural_cubic_coeffs(new_x).float()\n",
        "  sigs_x = model.forward(coeffs_x)\n",
        "\n",
        "  coeffs_y = torchcde.natural_cubic_coeffs(new_y).float()\n",
        "  sigs_y = model.forward(coeffs_y)\n",
        "\n",
        "  prods_ += torch.matmul(sigs_x.unsqueeze(-2),sigs_y.unsqueeze(-1)).squeeze(-1).squeeze(-1)\n",
        "\n",
        "prods_ = prods_/MC_iterations\n",
        "prods_ = prods_.cpu().detach().numpy()"
      ],
      "metadata": {
        "colab": {
          "base_uri": "https://localhost:8080/"
        },
        "id": "pnxddYPZJDn2",
        "outputId": "1fba4ab0-71b4-4a21-bdce-32d26dc0f138"
      },
      "execution_count": null,
      "outputs": [
        {
          "output_type": "stream",
          "name": "stderr",
          "text": [
            "100%|██████████| 15/15 [00:33<00:00,  2.22s/it]\n"
          ]
        }
      ]
    },
    {
      "cell_type": "code",
      "source": [
        "new_sk = sk\n",
        "new_prods = prods_\n",
        "\n",
        "plt.figure(figsize=(5,5))\n",
        "plt.scatter(new_sk, new_prods, edgecolors='blue', color='white')\n",
        "plt.plot(np.unique(new_sk), np.poly1d(np.polyfit(new_sk, new_prods, 1))(np.unique(new_sk)), color='blue', ls='--')\n",
        "plt.plot(np.unique(new_sk), np.unique(new_sk),'k-')\n",
        "plt.xlabel('True')\n",
        "plt.ylabel('Randomized.')\n",
        "plt.show()\n",
        "print('R2:', metrics.r2_score(new_sk, new_prods))"
      ],
      "metadata": {
        "colab": {
          "base_uri": "https://localhost:8080/",
          "height": 357
        },
        "id": "BuiBCtTdI_aD",
        "outputId": "dd3ed8ab-b7ac-4c48-8555-dbc1def2e41e"
      },
      "execution_count": null,
      "outputs": [
        {
          "output_type": "display_data",
          "data": {
            "text/plain": [
              "<Figure size 360x360 with 1 Axes>"
            ],
            "image/png": "[encoded data removed]"
          },
          "metadata": {
            "needs_background": "light"
          }
        },
        {
          "output_type": "stream",
          "name": "stdout",
          "text": [
            "R2: 0.9583438137345116\n"
          ]
        }
      ]
    },
    {
      "cell_type": "markdown",
      "source": [
        "# Convergence Study"
      ],
      "metadata": {
        "id": "BrfR9Kszv00n"
      }
    },
    {
      "cell_type": "code",
      "source": [
        "def compute_prods(hidden_dim, MC_iterations, bias = True):\n",
        "\n",
        "  prods = torch.zeros([new_x.shape[0]]).to(device)\n",
        "\n",
        "  for m in range(MC_iterations):\n",
        "\n",
        "    model = rSig(input_channels = 3, hidden_channels = hidden_dim, bias = False)\n",
        "    \n",
        "    coeffs_x = torchcde.natural_cubic_coeffs(new_x).float()\n",
        "    sigs_x = model.forward(coeffs_x)\n",
        "\n",
        "    coeffs_y = torchcde.natural_cubic_coeffs(new_y).float()\n",
        "    sigs_y = model.forward(coeffs_y)\n",
        "\n",
        "    prods += torch.matmul(sigs_x.unsqueeze(-2),sigs_y.unsqueeze(-1)).squeeze(-1).squeeze(-1)\n",
        "\n",
        "  prods = prods/MC_iterations\n",
        "  #prods = prods.cpu().detach().numpy()\n",
        "\n",
        "  return prods"
      ],
      "metadata": {
        "id": "4BpX404xv4ug"
      },
      "execution_count": null,
      "outputs": []
    },
    {
      "cell_type": "code",
      "source": [
        "H_dims = list(range(0,505,5))[1:]\n",
        "\n",
        "results = torch.zeros([len(H_dims),400]).to(device)\n",
        "\n",
        "for i in tqdm(range(len(H_dims))):\n",
        "  results[i, :] = compute_prods(H_dims[i], 15)\n",
        "\n",
        "results = results.cpu().detach().numpy()"
      ],
      "metadata": {
        "colab": {
          "base_uri": "https://localhost:8080/"
        },
        "id": "g5kzNa8dwW9o",
        "outputId": "e86e697f-485b-4dc7-e96c-90dbd8f1bf1d"
      },
      "execution_count": null,
      "outputs": [
        {
          "output_type": "stream",
          "name": "stderr",
          "text": [
            "100%|██████████| 100/100 [1:08:31<00:00, 41.12s/it] \n"
          ]
        }
      ]
    },
    {
      "cell_type": "code",
      "source": [
        "np.savetxt('results_rSigs.csv', results, delimiter=\",\")\n",
        "# results = pd.read_csv('/content/results_rSigs.csv', header = None).to_numpy()"
      ],
      "metadata": {
        "id": "RtoxkKJlw0Mv"
      },
      "execution_count": null,
      "outputs": []
    },
    {
      "cell_type": "code",
      "source": [
        "# results = torch.tensor(results)\n",
        "# results_ = results\n",
        "results = results_"
      ],
      "metadata": {
        "id": "ZUhrk9--CDrd"
      },
      "execution_count": null,
      "outputs": []
    },
    {
      "cell_type": "code",
      "source": [
        "dist = np.abs(results - sk)"
      ],
      "metadata": {
        "id": "NB-gLJJICLM4"
      },
      "execution_count": null,
      "outputs": []
    },
    {
      "cell_type": "code",
      "source": [
        "expected_distances = dist.mean(axis=1)\n",
        "variance_distances = (dist**2).mean(axis=1)"
      ],
      "metadata": {
        "id": "z4lrG4lhCkGN"
      },
      "execution_count": null,
      "outputs": []
    },
    {
      "cell_type": "code",
      "source": [
        "plt.plot(H_dims, expected_distances)"
      ],
      "metadata": {
        "colab": {
          "base_uri": "https://localhost:8080/",
          "height": 286
        },
        "id": "MNnrlTj2CrXv",
        "outputId": "a3c2587c-ddbf-458c-ef93-4d60d31d11b6"
      },
      "execution_count": null,
      "outputs": [
        {
          "output_type": "execute_result",
          "data": {
            "text/plain": [
              "[<matplotlib.lines.Line2D at 0x7fa050eb9490>]"
            ]
          },
          "metadata": {},
          "execution_count": 117
        },
        {
          "output_type": "display_data",
          "data": {
            "text/plain": [
              "<Figure size 432x288 with 1 Axes>"
            ],
            "image/png": "[encoded data removed]"
          },
          "metadata": {
            "needs_background": "light"
          }
        }
      ]
    },
    {
      "cell_type": "code",
      "source": [
        "plt.plot(np.log(H_dims), np.log(expected_distances))\n",
        "plt.plot(np.log(H_dims), -0.5*np.log(H_dims),'k-')"
      ],
      "metadata": {
        "colab": {
          "base_uri": "https://localhost:8080/",
          "height": 286
        },
        "id": "glW4GKR7D_kG",
        "outputId": "7b98343a-ada3-48b3-c88c-d81133b257b3"
      },
      "execution_count": null,
      "outputs": [
        {
          "output_type": "execute_result",
          "data": {
            "text/plain": [
              "[<matplotlib.lines.Line2D at 0x7fa050e9a8d0>]"
            ]
          },
          "metadata": {},
          "execution_count": 108
        },
        {
          "output_type": "display_data",
          "data": {
            "text/plain": [
              "<Figure size 432x288 with 1 Axes>"
            ],
            "image/png": "[encoded data removed]"
          },
          "metadata": {
            "needs_background": "light"
          }
        }
      ]
    },
    {
      "cell_type": "code",
      "source": [
        "plt.plot(H_dims, variance_distances)"
      ],
      "metadata": {
        "colab": {
          "base_uri": "https://localhost:8080/",
          "height": 286
        },
        "id": "cCNoIayZDEBi",
        "outputId": "a04201b7-c728-44e7-ae96-dbc5b2c72e87"
      },
      "execution_count": null,
      "outputs": [
        {
          "output_type": "execute_result",
          "data": {
            "text/plain": [
              "[<matplotlib.lines.Line2D at 0x7fa063ba9450>]"
            ]
          },
          "metadata": {},
          "execution_count": 105
        },
        {
          "output_type": "display_data",
          "data": {
            "text/plain": [
              "<Figure size 432x288 with 1 Axes>"
            ],
            "image/png": "[encoded data removed]"
          },
          "metadata": {
            "needs_background": "light"
          }
        }
      ]
    },
    {
      "cell_type": "code",
      "source": [
        "plt.plot(np.log(H_dims), np.log(variance_distances))\n",
        "plt.plot(np.log(H_dims), -np.log(H_dims),'k-')"
      ],
      "metadata": {
        "colab": {
          "base_uri": "https://localhost:8080/",
          "height": 286
        },
        "id": "s-zk52_WDINo",
        "outputId": "f7b7ec89-7e38-47cb-b9c9-e3c3bf3d8bb8"
      },
      "execution_count": null,
      "outputs": [
        {
          "output_type": "execute_result",
          "data": {
            "text/plain": [
              "[<matplotlib.lines.Line2D at 0x7fa063c0ca90>]"
            ]
          },
          "metadata": {},
          "execution_count": 107
        },
        {
          "output_type": "display_data",
          "data": {
            "text/plain": [
              "<Figure size 432x288 with 1 Axes>"
            ],
            "image/png": "[encoded data removed]"
          },
          "metadata": {
            "needs_background": "light"
          }
        }
      ]
    }
  ]
}