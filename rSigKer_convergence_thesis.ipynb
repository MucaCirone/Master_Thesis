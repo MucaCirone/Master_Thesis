{
  "nbformat": 4,
  "nbformat_minor": 0,
  "metadata": {
    "colab": {
      "name": "rSigKer_convergence_thesis.ipynb",
      "provenance": [],
      "collapsed_sections": [
        "8T0q2oOqGcd9"
      ],
      "authorship_tag": "ABX9TyNrX7+a57Xm2zsAhEFPvMUX",
      "include_colab_link": true
    },
    "kernelspec": {
      "name": "python3",
      "display_name": "Python 3"
    },
    "language_info": {
      "name": "python"
    },
    "accelerator": "GPU",
    "gpuClass": "standard"
  },
  "cells": [
    {
      "cell_type": "markdown",
      "metadata": {
        "id": "view-in-github",
        "colab_type": "text"
      },
      "source": [
        "<a href=\"https://colab.research.google.com/github/MucaCirone/Master_Thesis/blob/main/rSigKer_convergence_thesis.ipynb\" target=\"_parent\"><img src=\"https://colab.research.google.com/assets/colab-badge.svg\" alt=\"Open In Colab\"/></a>"
      ]
    },
    {
      "cell_type": "markdown",
      "source": [
        "This notebook shows some empirical convergence results concerning Randomized Signature Kernels as discussed in my master's thesis."
      ],
      "metadata": {
        "id": "C7GKMT22M3NN"
      }
    },
    {
      "cell_type": "markdown",
      "source": [
        "# Importing Libraries"
      ],
      "metadata": {
        "id": "8T0q2oOqGcd9"
      }
    },
    {
      "cell_type": "code",
      "execution_count": null,
      "metadata": {
        "id": "wki-yBKLGLJ2"
      },
      "outputs": [],
      "source": [
        "!pip install git+https://github.com/patrick-kidger/torchcde.git\n",
        "!pip install git+https://github.com/crispitagorico/sigkernel.git"
      ]
    },
    {
      "cell_type": "code",
      "source": [
        "import numpy as np\n",
        "from tqdm import tqdm\n",
        "import torch\n",
        "import torchcde\n",
        "import sigkernel\n",
        "import matplotlib.pyplot as plt\n",
        "\n",
        "import seaborn as sns\n",
        "import scipy\n",
        "import sklearn.metrics as metrics\n",
        "\n",
        "sns.set_context('notebook')"
      ],
      "metadata": {
        "id": "sL_9d88mGYK9"
      },
      "execution_count": 2,
      "outputs": []
    },
    {
      "cell_type": "markdown",
      "source": [
        "# rSig Euler "
      ],
      "metadata": {
        "id": "svM7ADpJGqEh"
      }
    },
    {
      "cell_type": "markdown",
      "source": [
        "In this section I define functions which compute the randomized signature kernel with linear driving dynamics i.e.\n",
        "\n",
        "$$rSig(\\omega)_t = ∑_{i=0}^d [A_i \\cdot rSig(\\omega)_t + b_i] d\\omega_t^i $$\n",
        "\n",
        "where $\\omega \\in BV_c([0,1];\\mathbb{R}^d)$ is the control."
      ],
      "metadata": {
        "id": "pVbP4RNYNTVd"
      }
    },
    {
      "cell_type": "code",
      "source": [
        "def rSig_Euler(data_x, hidden_dim, bias=True, initial=True):\n",
        "  # Compute rSignature\n",
        "    \n",
        "    batch_x, timesteps_x, input_dim = data_x.shape\n",
        "    # Compute differences\n",
        "    dx = np.diff(data_x, axis = 1) \n",
        "\n",
        "    # Build VFields\n",
        "    if initial:\n",
        "        S0 =  (1/np.sqrt(hidden_dim))*np.random.randn(hidden_dim)\n",
        "    else:\n",
        "        S0 = (1/np.sqrt(hidden_dim))*np.ones(hidden_dim)\n",
        "    \n",
        "    As = (1/np.sqrt(hidden_dim))*np.random.randn(input_dim, hidden_dim, hidden_dim)\n",
        "\n",
        "    if bias:\n",
        "        bs = (1/np.sqrt(hidden_dim))*np.random.randn(input_dim, hidden_dim)\n",
        "    else: \n",
        "        bs = np.zeros((input_dim, hidden_dim))\n",
        "\n",
        "    rSigs_x = np.zeros((batch_x, hidden_dim))\n",
        "    rSigs_x[:,:] = S0\n",
        "\n",
        "    # Compute rSigs\n",
        "    for control in range(batch_x):\n",
        "        for t in range(timesteps_x - 1):\n",
        "            dZ_x = np.sum([((As[i,:,:]@rSigs_x[control,:]) + bs[i,:])*dx[control, t, i] for i in range(input_dim)],0)\n",
        "            rSigs_x[control,:] += dZ_x\n",
        "\n",
        "    return rSigs_x"
      ],
      "metadata": {
        "id": "ED2kTFX7GvIu"
      },
      "execution_count": 3,
      "outputs": []
    },
    {
      "cell_type": "code",
      "source": [
        "def rSigKer_Euler(data_x, data_y, hidden_dim, MC_iter, same = False, bias=True, initial=True):\n",
        "    \"\"\"\n",
        "    Compute the rSigKernel on a batch of input pairs (x_i,y_i)\n",
        "    \n",
        "    data_x : (batch_x, timesteps_x, input_dim_x) Numpy array\n",
        "    data_y : (batch_x, timesteps_y, input_dim_y) Numpy array\n",
        "    \"\"\"\n",
        "\n",
        "    batch_x, timesteps_x, input_dim = data_x.shape\n",
        "    batch_y, timesteps_y, input_dim_y = data_y.shape\n",
        "\n",
        "    assert input_dim == input_dim_y\n",
        "    assert batch_x == batch_y\n",
        "\n",
        "    # Compute differences\n",
        "    dx = np.diff(data_x, axis = 1) \n",
        "    if not same: dy = np.diff(data_y, axis = 1) \n",
        "\n",
        "    prod_final = np.zeros(batch_x)\n",
        "\n",
        "    for iter in tqdm(range(MC_iter)):\n",
        "\n",
        "        # Build VFields\n",
        "        if initial:\n",
        "            S0 =  (1/np.sqrt(hidden_dim))*np.random.randn(hidden_dim)\n",
        "        else:\n",
        "            S0 = (1/np.sqrt(hidden_dim))*np.ones(hidden_dim)\n",
        "\n",
        "        As = (1/np.sqrt(hidden_dim))*np.random.randn(input_dim, hidden_dim, hidden_dim)\n",
        "\n",
        "        if bias:\n",
        "            bs = (1/np.sqrt(hidden_dim))*np.random.randn(input_dim, hidden_dim)\n",
        "        else: \n",
        "            bs = np.zeros((input_dim, hidden_dim))\n",
        "\n",
        "        # Set initial values as z0\n",
        "        rSigs_x = np.zeros((batch_x, hidden_dim))\n",
        "        rSigs_x[:,:] = S0\n",
        "        if not same: \n",
        "            rSigs_y = np.zeros((batch_y, hidden_dim))\n",
        "            rSigs_y[:,:] = S0\n",
        "          \n",
        "        def sigmoid(x): return x #np.tanh(x) #1 / (1 + np.exp(-x))\n",
        "\n",
        "        # Compute rSigs\n",
        "        for control in range(batch_x):\n",
        "            for t in range(timesteps_x - 1):\n",
        "                dZ_x = np.sum([sigmoid(((As[i,:,:]@rSigs_x[control,:]) + bs[i,:]))*dx[control, t, i] for i in range(input_dim)],0)\n",
        "                rSigs_x[control,:] += dZ_x\n",
        "          \n",
        "        if not same:\n",
        "            for control in range(batch_x):\n",
        "                for t in range(timesteps_x - 1):\n",
        "                    dZ_y = np.sum([sigmoid(((As[i,:,:]@rSigs_y[control,:]) + bs[i,:]))*dy[control, t, i] for i in range(input_dim)],0)\n",
        "                    rSigs_y[control,:] += dZ_y\n",
        "\n",
        "        # Compute Products\n",
        "        prods = np.zeros(batch_x)\n",
        "\n",
        "        if same: rSigs_y = rSigs_x\n",
        "\n",
        "        for i in range(batch_x):\n",
        "          prods[i] = rSigs_y[i].dot(rSigs_x[i])\n",
        "\n",
        "        prod_final += prods\n",
        "\n",
        "    prod_final = (1/MC_iter)*prod_final\n",
        "    return prod_final"
      ],
      "metadata": {
        "id": "-T2GgRTkGpSx"
      },
      "execution_count": 4,
      "outputs": []
    },
    {
      "cell_type": "markdown",
      "source": [
        "# Data"
      ],
      "metadata": {
        "id": "Od1TjIYJHAqF"
      }
    },
    {
      "cell_type": "markdown",
      "source": [
        "Cration of the datasets. All the credit goes to Maud Lemercier (https://warwick.ac.uk/fac/sci/statistics/staff/research_students/mlemercier)."
      ],
      "metadata": {
        "id": "NFYrikA-HP1r"
      }
    },
    {
      "cell_type": "code",
      "source": [
        "def exponentiated_quadratic(xa, xb, sigma):\n",
        "    \"\"\"\n",
        "    Exponentiated quadratic  with σ = 1\n",
        "    i.e. exp ( - 1/2\\sigma * [squared euclidean distance matrix of elements in xa and xb])\n",
        "    \"\"\"\n",
        "    sq_norm = -0.5 * scipy.spatial.distance.cdist(xa, xb, 'sqeuclidean')\n",
        "    return np.exp(sq_norm/sigma)"
      ],
      "metadata": {
        "id": "LguamBQoGviR"
      },
      "execution_count": 5,
      "outputs": []
    },
    {
      "cell_type": "code",
      "source": [
        "def tile(a, dim, n_tile):\n",
        "    init_dim = a.size(dim)\n",
        "    repeat_idx = [1] * a.dim()\n",
        "    repeat_idx[dim] = n_tile\n",
        "    a = a.repeat(*(repeat_idx)) \n",
        "    order_index = torch.LongTensor(np.concatenate([init_dim * np.arange(n_tile) + i for i in range(init_dim)])).to(a.device)\n",
        "    return torch.index_select(a, dim, order_index)"
      ],
      "metadata": {
        "id": "opY59GoLH0CT"
      },
      "execution_count": 6,
      "outputs": []
    },
    {
      "cell_type": "code",
      "source": [
        "# Synthetic data\n",
        "batch, len_x, len_y = 400, 10, 10\n",
        "\n",
        "# Independent variable samples\n",
        "U = np.expand_dims(np.linspace(-2, 2, len_x), 1)\n",
        "Sigma = exponentiated_quadratic(U, U, sigma=.25)  # Kernel of data points \n",
        "\n",
        "# Draw samples \n",
        "y1 = np.random.multivariate_normal(mean=np.zeros(len_x), cov=Sigma, size=batch)\n",
        "y2 = np.random.multivariate_normal(mean=np.zeros(len_x), cov=Sigma, size=batch)\n",
        "y3 = np.random.multivariate_normal(mean=np.zeros(len_x), cov=Sigma, size=batch)\n",
        "x1 = np.random.multivariate_normal(mean=np.zeros(len_x), cov=Sigma, size=batch)\n",
        "x2 = np.random.multivariate_normal(mean=np.zeros(len_x), cov=Sigma, size=batch)\n",
        "x3 = np.random.multivariate_normal(mean=np.zeros(len_x), cov=Sigma, size=batch)\n",
        "\n",
        "x = .15*np.stack([x1,x2,x3],axis=2)\n",
        "y = .15*np.stack([y1,y2,y3],axis=2)\n",
        "\n",
        "# x.shape  -- (400, 10, 3)"
      ],
      "metadata": {
        "id": "ViKUoWWLHDHX"
      },
      "execution_count": 7,
      "outputs": []
    },
    {
      "cell_type": "code",
      "source": [
        "# batch  - Number of controls\n",
        "k = 500  # Reservoir Dimension\n",
        "d = 3    # Control Dimension\n",
        "n = 4    # Tiling parameter\n",
        "M = 1    # MC iterations\n",
        "\n",
        "\n",
        "dx = np.diff(x, axis=1)\n",
        "dy = np.diff(y, axis=1)\n",
        "\n",
        "# tile the signals\n",
        "dx = (1./(2**n))*tile(torch.tensor(dx), 1, 2 ** n).numpy()\n",
        "dy = (1./(2**n))*tile(torch.tensor(dy), 1, 2 ** n).numpy()\n",
        "\n",
        "\n",
        "T = dx.shape[1] # Timesteps"
      ],
      "metadata": {
        "id": "5ESVfRicH3ma"
      },
      "execution_count": 8,
      "outputs": []
    },
    {
      "cell_type": "markdown",
      "source": [
        "# SigKer - computation\n"
      ],
      "metadata": {
        "id": "zYAOwxjjHqAZ"
      }
    },
    {
      "cell_type": "code",
      "source": [
        "# Specify the static kernel (for linear kernel use sigkernel.LinearKernel())\n",
        "static_kernel = sigkernel.LinearKernel()\n",
        "\n",
        "# Specify dyadic order for PDE solver (int > 0, default 0, the higher the more accurate but slower)\n",
        "dyadic_order = 4\n",
        "\n",
        "# Initialize the corresponding signature kernel\n",
        "signature_kernel = sigkernel.SigKernel(static_kernel, dyadic_order)\n",
        "\n",
        "# Compute signature kernel \"batch-wise\" (i.e. k(x_1,y_1),...,k(x_batch, y_batch))\n",
        "sk = signature_kernel.compute_kernel(torch.tensor(x), torch.tensor(y))"
      ],
      "metadata": {
        "id": "peBG5h0uHJn5"
      },
      "execution_count": 9,
      "outputs": []
    },
    {
      "cell_type": "markdown",
      "source": [
        "# rSig - computation"
      ],
      "metadata": {
        "id": "rCcMmEczH80i"
      }
    },
    {
      "cell_type": "markdown",
      "source": [
        "Without Bias"
      ],
      "metadata": {
        "id": "Nxc3xWKhJIB1"
      }
    },
    {
      "cell_type": "code",
      "source": [
        "truncation = 100\n",
        "new_x = np.append(np.zeros((dx.shape[0],1,dx.shape[2])),np.cumsum(dx, axis =1), axis = 1)\n",
        "new_y = np.append(np.zeros((dy.shape[0],1,dy.shape[2])),np.cumsum(dy, axis =1), axis = 1)\n",
        "new_prods = rSigKer_Euler(new_x[:truncation],new_y[:truncation],1000,20, bias = False)\n",
        "new_prods_ = new_prods"
      ],
      "metadata": {
        "colab": {
          "base_uri": "https://localhost:8080/"
        },
        "id": "lWS-EtKWHupP",
        "outputId": "29172f3d-5316-47dd-c561-2d1e45aa8850"
      },
      "execution_count": 10,
      "outputs": [
        {
          "output_type": "stream",
          "name": "stderr",
          "text": [
            "100%|██████████| 20/20 [08:50<00:00, 26.53s/it]\n"
          ]
        }
      ]
    },
    {
      "cell_type": "code",
      "source": [
        "new_sk = sk[:truncation]\n",
        "#new_prods = 0.5*(new_prods + 1)\n",
        "\n",
        "plt.figure(figsize=(5,5))\n",
        "plt.scatter(new_sk, new_prods, edgecolors='blue', color='white')\n",
        "plt.plot(np.unique(new_sk), np.poly1d(np.polyfit(new_sk, new_prods, 1))(np.unique(new_sk)), color='blue', ls='--')\n",
        "plt.plot(np.unique(new_sk), np.unique(new_sk),'k-')\n",
        "plt.xlabel('True')\n",
        "plt.ylabel('Randomized.')\n",
        "plt.show()\n",
        "print('R2:', metrics.r2_score(new_sk, new_prods))"
      ],
      "metadata": {
        "colab": {
          "base_uri": "https://localhost:8080/",
          "height": 357
        },
        "id": "1V-A0IUNIArG",
        "outputId": "a34f6a6f-dc52-4fb9-c841-0cccb728a4b9"
      },
      "execution_count": 11,
      "outputs": [
        {
          "output_type": "display_data",
          "data": {
            "text/plain": [
              "<Figure size 360x360 with 1 Axes>"
            ],
            "image/png": "[encoded data removed]"
          },
          "metadata": {
            "needs_background": "light"
          }
        },
        {
          "output_type": "stream",
          "name": "stdout",
          "text": [
            "R2: 0.9831571482024842\n"
          ]
        }
      ]
    },
    {
      "cell_type": "markdown",
      "source": [
        "With Bias"
      ],
      "metadata": {
        "id": "sEPFxaDsJKGY"
      }
    },
    {
      "cell_type": "code",
      "source": [
        "truncation = 100\n",
        "new_x = np.append(np.zeros((dx.shape[0],1,dx.shape[2])),np.cumsum(dx, axis =1), axis = 1)\n",
        "new_y = np.append(np.zeros((dy.shape[0],1,dy.shape[2])),np.cumsum(dy, axis =1), axis = 1)\n",
        "new_prods = rSigKer_Euler(new_x[:truncation],new_y[:truncation],1000,20, bias = True)\n",
        "new_prods_ = new_prods"
      ],
      "metadata": {
        "colab": {
          "base_uri": "https://localhost:8080/"
        },
        "id": "pnxddYPZJDn2",
        "outputId": "6ba05fcb-4ec3-4b97-8114-9124503acedb"
      },
      "execution_count": 16,
      "outputs": [
        {
          "output_type": "stream",
          "name": "stderr",
          "text": [
            "100%|██████████| 20/20 [07:53<00:00, 23.65s/it]\n"
          ]
        }
      ]
    },
    {
      "cell_type": "code",
      "source": [
        "new_sk = sk[:truncation]\n",
        "#new_prods = 0.5*(new_prods + 1)\n",
        "\n",
        "plt.figure(figsize=(5,5))\n",
        "plt.scatter(new_sk, new_prods, edgecolors='blue', color='white')\n",
        "plt.plot(np.unique(new_sk), np.poly1d(np.polyfit(new_sk, new_prods, 1))(np.unique(new_sk)), color='blue', ls='--')\n",
        "plt.plot(np.unique(new_sk), 2*np.unique(new_sk)-1,'k-')\n",
        "plt.xlabel('True')\n",
        "plt.ylabel('Randomized.')\n",
        "plt.show()\n",
        "print('R2:', metrics.r2_score(2*new_sk-1, new_prods))"
      ],
      "metadata": {
        "colab": {
          "base_uri": "https://localhost:8080/",
          "height": 357
        },
        "id": "BuiBCtTdI_aD",
        "outputId": "f5363c1a-aa93-4f35-ee68-2057eb2689c7"
      },
      "execution_count": 18,
      "outputs": [
        {
          "output_type": "display_data",
          "data": {
            "text/plain": [
              "<Figure size 360x360 with 1 Axes>"
            ],
            "image/png": "[encoded data removed]"
          },
          "metadata": {
            "needs_background": "light"
          }
        },
        {
          "output_type": "stream",
          "name": "stdout",
          "text": [
            "R2: 0.9823141713259618\n"
          ]
        }
      ]
    },
    {
      "cell_type": "markdown",
      "source": [
        "# Comments"
      ],
      "metadata": {
        "id": "7itOtmtFOoh-"
      }
    },
    {
      "cell_type": "markdown",
      "source": [
        "There is still lots of work to do to optimize the computations, the next objective is that of using the TorchCDE framework to write a fast implementation."
      ],
      "metadata": {
        "id": "OA2pp8SEOrJ9"
      }
    }
  ]
}