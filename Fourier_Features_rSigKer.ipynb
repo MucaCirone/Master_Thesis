{
  "nbformat": 4,
  "nbformat_minor": 0,
  "metadata": {
    "colab": {
      "name": "Fourier_Features_rSigKer.ipynb",
      "provenance": [],
      "collapsed_sections": [
        "8T0q2oOqGcd9"
      ],
      "machine_shape": "hm",
      "authorship_tag": "ABX9TyM7NJ4lVT5S3QbiN7NER8Jz",
      "include_colab_link": true
    },
    "kernelspec": {
      "name": "python3",
      "display_name": "Python 3"
    },
    "language_info": {
      "name": "python"
    },
    "accelerator": "GPU",
    "gpuClass": "standard"
  },
  "cells": [
    {
      "cell_type": "markdown",
      "metadata": {
        "id": "view-in-github",
        "colab_type": "text"
      },
      "source": [
        "<a href=\"https://colab.research.google.com/github/MucaCirone/Master_Thesis/blob/main/Fourier_Features_rSigKer.ipynb\" target=\"_parent\"><img src=\"https://colab.research.google.com/assets/colab-badge.svg\" alt=\"Open In Colab\"/></a>"
      ]
    },
    {
      "cell_type": "markdown",
      "source": [
        "This notebook shows some empirical convergence results concerning Randomized Signature Kernels as discussed in my master's thesis."
      ],
      "metadata": {
        "id": "C7GKMT22M3NN"
      }
    },
    {
      "cell_type": "markdown",
      "source": [
        "# Importing Libraries"
      ],
      "metadata": {
        "id": "8T0q2oOqGcd9"
      }
    },
    {
      "cell_type": "code",
      "execution_count": 57,
      "metadata": {
        "id": "wki-yBKLGLJ2",
        "colab": {
          "base_uri": "https://localhost:8080/"
        },
        "outputId": "7d5eb675-99ce-429c-a981-2df0276b8268"
      },
      "outputs": [
        {
          "output_type": "stream",
          "name": "stdout",
          "text": [
            "Looking in indexes: https://pypi.org/simple, https://us-python.pkg.dev/colab-wheels/public/simple/\n",
            "Collecting git+https://github.com/patrick-kidger/torchcde.git\n",
            "  Cloning https://github.com/patrick-kidger/torchcde.git to /tmp/pip-req-build-da50o5ol\n",
            "  Running command git clone -q https://github.com/patrick-kidger/torchcde.git /tmp/pip-req-build-da50o5ol\n",
            "Requirement already satisfied: torch>=1.7.0 in /usr/local/lib/python3.7/dist-packages (from torchcde==0.2.5) (1.12.1+cu113)\n",
            "Requirement already satisfied: torchdiffeq>=0.2.0 in /usr/local/lib/python3.7/dist-packages (from torchcde==0.2.5) (0.2.3)\n",
            "Requirement already satisfied: torchsde>=0.2.5 in /usr/local/lib/python3.7/dist-packages (from torchcde==0.2.5) (0.2.5)\n",
            "Requirement already satisfied: typing-extensions in /usr/local/lib/python3.7/dist-packages (from torch>=1.7.0->torchcde==0.2.5) (4.1.1)\n",
            "Requirement already satisfied: scipy>=1.4.0 in /usr/local/lib/python3.7/dist-packages (from torchdiffeq>=0.2.0->torchcde==0.2.5) (1.7.3)\n",
            "Requirement already satisfied: numpy<1.23.0,>=1.16.5 in /usr/local/lib/python3.7/dist-packages (from scipy>=1.4.0->torchdiffeq>=0.2.0->torchcde==0.2.5) (1.21.6)\n",
            "Requirement already satisfied: trampoline>=0.1.2 in /usr/local/lib/python3.7/dist-packages (from torchsde>=0.2.5->torchcde==0.2.5) (0.1.2)\n",
            "Requirement already satisfied: boltons>=20.2.1 in /usr/local/lib/python3.7/dist-packages (from torchsde>=0.2.5->torchcde==0.2.5) (21.0.0)\n",
            "Looking in indexes: https://pypi.org/simple, https://us-python.pkg.dev/colab-wheels/public/simple/\n",
            "Collecting git+https://github.com/crispitagorico/sigkernel.git\n",
            "  Cloning https://github.com/crispitagorico/sigkernel.git to /tmp/pip-req-build-87m0egsc\n",
            "  Running command git clone -q https://github.com/crispitagorico/sigkernel.git /tmp/pip-req-build-87m0egsc\n",
            "Requirement already satisfied: cython>=0.29 in /usr/local/lib/python3.7/dist-packages (from sigkernel==0.0.1) (0.29.32)\n",
            "Requirement already satisfied: numba>=0.50 in /usr/local/lib/python3.7/dist-packages (from sigkernel==0.0.1) (0.56.0)\n",
            "Requirement already satisfied: torch>=1.6.0 in /usr/local/lib/python3.7/dist-packages (from sigkernel==0.0.1) (1.12.1+cu113)\n",
            "Requirement already satisfied: scikit-learn in /usr/local/lib/python3.7/dist-packages (from sigkernel==0.0.1) (1.0.2)\n",
            "Requirement already satisfied: tslearn in /usr/local/lib/python3.7/dist-packages (from sigkernel==0.0.1) (0.5.2)\n",
            "Requirement already satisfied: scipy in /usr/local/lib/python3.7/dist-packages (from sigkernel==0.0.1) (1.7.3)\n",
            "Requirement already satisfied: llvmlite<0.40,>=0.39.0dev0 in /usr/local/lib/python3.7/dist-packages (from numba>=0.50->sigkernel==0.0.1) (0.39.0)\n",
            "Requirement already satisfied: setuptools in /usr/local/lib/python3.7/dist-packages (from numba>=0.50->sigkernel==0.0.1) (57.4.0)\n",
            "Requirement already satisfied: importlib-metadata in /usr/local/lib/python3.7/dist-packages (from numba>=0.50->sigkernel==0.0.1) (4.12.0)\n",
            "Requirement already satisfied: numpy<1.23,>=1.18 in /usr/local/lib/python3.7/dist-packages (from numba>=0.50->sigkernel==0.0.1) (1.21.6)\n",
            "Requirement already satisfied: typing-extensions in /usr/local/lib/python3.7/dist-packages (from torch>=1.6.0->sigkernel==0.0.1) (4.1.1)\n",
            "Requirement already satisfied: zipp>=0.5 in /usr/local/lib/python3.7/dist-packages (from importlib-metadata->numba>=0.50->sigkernel==0.0.1) (3.8.1)\n",
            "Requirement already satisfied: threadpoolctl>=2.0.0 in /usr/local/lib/python3.7/dist-packages (from scikit-learn->sigkernel==0.0.1) (3.1.0)\n",
            "Requirement already satisfied: joblib>=0.11 in /usr/local/lib/python3.7/dist-packages (from scikit-learn->sigkernel==0.0.1) (1.1.0)\n"
          ]
        }
      ],
      "source": [
        "!pip install git+https://github.com/patrick-kidger/torchcde.git\n",
        "!pip install git+https://github.com/crispitagorico/sigkernel.git"
      ]
    },
    {
      "cell_type": "code",
      "source": [
        "import torch\n",
        "import torchcde\n",
        "from tqdm import tqdm\n",
        "\n",
        "import numpy as np\n",
        "import scipy as sp\n",
        "from matplotlib import pyplot as plt\n",
        "from scipy import linalg\n",
        "import random\n",
        "\n",
        "\n",
        "from sklearn.model_selection import train_test_split, GridSearchCV, TimeSeriesSplit\n",
        "from sklearn.metrics import mean_absolute_error\n",
        "from sklearn.svm import SVR\n",
        "\n",
        "import matplotlib.pyplot as plt\n",
        "\n",
        "import seaborn as sns\n",
        "import scipy\n",
        "import sklearn.metrics as metrics\n",
        "\n",
        "sns.set_context('notebook')\n",
        "\n",
        "import sigkernel\n",
        "\n",
        "device = torch.device(\"cuda:0\" if torch.cuda.is_available() else \"cpu\")\n",
        "print(device)"
      ],
      "metadata": {
        "colab": {
          "base_uri": "https://localhost:8080/"
        },
        "id": "VAX20B-wbfT_",
        "outputId": "baf9ff40-d510-418c-d5d0-36b63776819d"
      },
      "execution_count": 58,
      "outputs": [
        {
          "output_type": "stream",
          "name": "stdout",
          "text": [
            "cuda:0\n"
          ]
        }
      ]
    },
    {
      "cell_type": "markdown",
      "source": [
        "# rSig - CDE code"
      ],
      "metadata": {
        "id": "fyLshHsb1B4f"
      }
    },
    {
      "cell_type": "code",
      "source": [
        "def randomAbeta(n_vec: int, m: int, mean=0.0, sigma=0.03, distribution=torch.normal):\n",
        "    # Creates n_vec random mxm matrix A and mx1 vector beta\n",
        "    # Entries have distribution 'distribution'\n",
        "\n",
        "    A = []\n",
        "    beta = []\n",
        "    Gamma = []\n",
        "\n",
        "    for i in range(n_vec):\n",
        "        # B = 0.0*nilpotent(m) + np.random.normal(mean, sigma, size=(m, m))\n",
        "        B = distribution(mean, sigma, size=(m, m)).to(device)\n",
        "        A = A + [B]\n",
        "        b = distribution(mean, sigma, size=(1,m)).squeeze(0).to(device)\n",
        "        beta = beta + [b]\n",
        "        Gamma = Gamma + [torch.cat((B,b.unsqueeze(-1)),1)]\n",
        "\n",
        "\n",
        "    return [torch.stack(A),torch.stack(beta),torch.stack(Gamma)]"
      ],
      "metadata": {
        "id": "cAr7zf3FU3C0"
      },
      "execution_count": 59,
      "outputs": []
    },
    {
      "cell_type": "code",
      "source": [
        "class DrivingFields(torch.nn.Module):\n",
        "    def __init__(self, input_channels, hidden_channels, sigma = 1.0, bias = True):\n",
        "        ######################\n",
        "        # input_channels is the number of input channels in the data X. (Determined by the data.)\n",
        "        # hidden_channels is the number of channels for z_t. (Determined by you!)\n",
        "        ######################\n",
        "        super(DrivingFields, self).__init__()\n",
        "        self.input_channels = input_channels\n",
        "        self.hidden_channels = hidden_channels\n",
        "\n",
        "        _,_,self.Gamma = randomAbeta(input_channels,hidden_channels, sigma= sigma)\n",
        "        \n",
        "        if not bias:\n",
        "          self.Gamma[:,:,-1] = 0.\n",
        "\n",
        "    def forward(self, t, z):\n",
        "        # z : (batch, hidden_channels)\n",
        "        batch = z.shape[0]\n",
        "        z = torch.cat((z, torch.ones([batch,1]).to(device)),1) # z -> [z,1]\n",
        "        z = z.unsqueeze(-2).unsqueeze(-1) # (batch,n+1) -> (batch,1,n+1,1)\n",
        "        G = self.Gamma.expand(1,-1,-1,-1) # (d, n, n+1) -> (1, d, n, n+1)\n",
        "        res = torch.matmul(G,z) # (batch, d, n, 1) \n",
        "        res = res.squeeze(-1) # (batch, d, n, 1) -> (batch, d, n)\n",
        "        res = torch.swapaxes(res, -2, -1) # (batch, d, n) -> (batch, n, d)\n",
        "        #res = res.tanh()\n",
        "        return res"
      ],
      "metadata": {
        "id": "rwZTTzg3UPeK"
      },
      "execution_count": 60,
      "outputs": []
    },
    {
      "cell_type": "code",
      "source": [
        "######################\n",
        "# Next, we need to package CDEFunc up into a model that computes the integral.\n",
        "######################\n",
        "class rSig(torch.nn.Module):\n",
        "    def __init__(self, input_channels, hidden_channels, bias = True):\n",
        "        super(rSig, self).__init__()\n",
        "        sigma = 1/np.sqrt(hidden_channels)\n",
        "\n",
        "        self.input_channels = input_channels\n",
        "        self.hidden_channels = hidden_channels\n",
        "        self.fields = DrivingFields(input_channels, hidden_channels, sigma, bias)\n",
        "        self.z0 = sigma*torch.normal(0,1,size = [self.hidden_channels]).to(device)\n",
        "\n",
        "        \n",
        "\n",
        "    def forward(self, coeffs):\n",
        "        batch = coeffs.shape[0]\n",
        "        X = torchcde.interpolation_cubic.NaturalCubicSpline(coeffs)\n",
        "\n",
        "        ######################\n",
        "        # Easy to forget gotcha: Initial hidden state should be a function of the first observation.\n",
        "        ######################\n",
        "        X0 = X.evaluate(X.interval[0])\n",
        "        z0 = (self.z0).expand(batch, -1)\n",
        "\n",
        "        ######################\n",
        "        # Actually solve the CDE.\n",
        "        ######################\n",
        "        z_T = torchcde.cdeint(X=X,\n",
        "                              z0=z0,\n",
        "                              func=self.fields,\n",
        "                              t=X.interval)\n",
        "\n",
        "        ######################\n",
        "        # Both the initial value and the terminal value are returned from cdeint; extract just the terminal value,\n",
        "        # and then apply a linear map.\n",
        "        ######################\n",
        "        z_T = z_T[:, 1]\n",
        "        return z_T"
      ],
      "metadata": {
        "id": "cpD9P4zUhRjM"
      },
      "execution_count": 61,
      "outputs": []
    },
    {
      "cell_type": "markdown",
      "source": [
        "# Data"
      ],
      "metadata": {
        "id": "Od1TjIYJHAqF"
      }
    },
    {
      "cell_type": "markdown",
      "source": [
        "Cration of the datasets. Credit goes to Maud Lemercier (https://warwick.ac.uk/fac/sci/statistics/staff/research_students/mlemercier)."
      ],
      "metadata": {
        "id": "NFYrikA-HP1r"
      }
    },
    {
      "cell_type": "code",
      "source": [
        "def exponentiated_quadratic(xa, xb, sigma):\n",
        "    \"\"\"\n",
        "    Exponentiated quadratic  with σ = 1\n",
        "    i.e. exp ( - 1/2\\sigma * [squared euclidean distance matrix of elements in xa and xb])\n",
        "    \"\"\"\n",
        "    sq_norm = -0.5 * scipy.spatial.distance.cdist(xa, xb, 'sqeuclidean')\n",
        "    return np.exp(sq_norm/sigma)"
      ],
      "metadata": {
        "id": "LguamBQoGviR"
      },
      "execution_count": 87,
      "outputs": []
    },
    {
      "cell_type": "code",
      "source": [
        "# Synthetic data\n",
        "batch, len_x, len_y = 400, 10, 10\n",
        "\n",
        "# Independent variable samples\n",
        "U = np.expand_dims(np.linspace(-2, 2, len_x), 1)\n",
        "Sigma = exponentiated_quadratic(U, U, sigma=.25)  # Kernel of data points \n",
        "\n",
        "# Draw samples \n",
        "y1 = np.random.multivariate_normal(mean=np.zeros(len_x), cov=Sigma, size=batch)\n",
        "y2 = np.random.multivariate_normal(mean=np.zeros(len_x), cov=Sigma, size=batch)\n",
        "y3 = np.random.multivariate_normal(mean=np.zeros(len_x), cov=Sigma, size=batch)\n",
        "x1 = np.random.multivariate_normal(mean=np.zeros(len_x), cov=Sigma, size=batch)\n",
        "x2 = np.random.multivariate_normal(mean=np.zeros(len_x), cov=Sigma, size=batch)\n",
        "x3 = np.random.multivariate_normal(mean=np.zeros(len_x), cov=Sigma, size=batch)\n",
        "\n",
        "x = .15*np.stack([x1,x2,x3],axis=2)\n",
        "y = .15*np.stack([y1,y2,y3],axis=2)\n",
        "\n",
        "# x.shape  -- (400, 10, 3)"
      ],
      "metadata": {
        "id": "ViKUoWWLHDHX"
      },
      "execution_count": 88,
      "outputs": []
    },
    {
      "cell_type": "markdown",
      "source": [
        "# Linear SigKer - computation\n"
      ],
      "metadata": {
        "id": "zYAOwxjjHqAZ"
      }
    },
    {
      "cell_type": "code",
      "source": [
        "# Specify the static kernel (for linear kernel use sigkernel.LinearKernel())\n",
        "static_kernel = sigkernel.LinearKernel()\n",
        "\n",
        "# Specify dyadic order for PDE solver (int > 0, default 0, the higher the more accurate but slower)\n",
        "dyadic_order = 4\n",
        "\n",
        "# Initialize the corresponding signature kernel\n",
        "signature_kernel = sigkernel.SigKernel(static_kernel, dyadic_order)\n",
        "\n",
        "# Compute signature kernel \"batch-wise\" (i.e. k(x_1,y_1),...,k(x_batch, y_batch))\n",
        "sk = signature_kernel.compute_kernel(torch.tensor(x), torch.tensor(y))"
      ],
      "metadata": {
        "id": "peBG5h0uHJn5"
      },
      "execution_count": null,
      "outputs": []
    },
    {
      "cell_type": "markdown",
      "source": [
        "# rSigKer - computation"
      ],
      "metadata": {
        "id": "rCcMmEczH80i"
      }
    },
    {
      "cell_type": "markdown",
      "source": [
        "With Bias"
      ],
      "metadata": {
        "id": "Nxc3xWKhJIB1"
      }
    },
    {
      "cell_type": "code",
      "source": [
        "new_x = torch.tensor(x).to(device)\n",
        "new_y = torch.tensor(y).to(device)"
      ],
      "metadata": {
        "id": "Uorrfb3-1CI8"
      },
      "execution_count": null,
      "outputs": []
    },
    {
      "cell_type": "code",
      "source": [
        "MC_iterations = 15\n",
        "hidden_dim = 250\n",
        "\n",
        "prods = torch.zeros([new_x.shape[0]]).to(device)\n",
        "\n",
        "for m in tqdm(range(MC_iterations)):\n",
        "\n",
        "  model = rSig(input_channels = 3, hidden_channels = hidden_dim)\n",
        "  \n",
        "  coeffs_x = torchcde.natural_cubic_coeffs(new_x).float()\n",
        "  sigs_x = model.forward(coeffs_x)\n",
        "\n",
        "  coeffs_y = torchcde.natural_cubic_coeffs(new_y).float()\n",
        "  sigs_y = model.forward(coeffs_y)\n",
        "\n",
        "  prods += torch.matmul(sigs_x.unsqueeze(-2),sigs_y.unsqueeze(-1)).squeeze(-1).squeeze(-1)\n",
        "\n",
        "prods = prods/MC_iterations\n",
        "prods = prods.cpu().detach().numpy()"
      ],
      "metadata": {
        "colab": {
          "base_uri": "https://localhost:8080/"
        },
        "id": "tbMyPVzeqDJp",
        "outputId": "07ffa59f-3259-4461-9738-112937e4382a"
      },
      "execution_count": null,
      "outputs": [
        {
          "output_type": "stream",
          "name": "stderr",
          "text": [
            "100%|██████████| 15/15 [00:10<00:00,  1.49it/s]\n"
          ]
        }
      ]
    },
    {
      "cell_type": "code",
      "source": [
        "new_sk = sk\n",
        "new_prods = prods \n",
        "\n",
        "plt.figure(figsize=(5,5))\n",
        "plt.scatter(new_sk, new_prods, edgecolors='blue', color='white')\n",
        "plt.plot(np.unique(new_sk), np.poly1d(np.polyfit(new_sk, new_prods, 1))(np.unique(new_sk)), color='blue', ls='--')\n",
        "plt.plot(np.unique(new_sk), 2*np.unique(new_sk) - 1,'k-')\n",
        "plt.xlabel('True')\n",
        "plt.ylabel('Randomized.')\n",
        "plt.show()\n",
        "print('R2:', metrics.r2_score(2*new_sk-1, new_prods))"
      ],
      "metadata": {
        "colab": {
          "base_uri": "https://localhost:8080/",
          "height": 357
        },
        "id": "1V-A0IUNIArG",
        "outputId": "5ff28648-3a5c-4f9a-c444-514687006a55"
      },
      "execution_count": null,
      "outputs": [
        {
          "output_type": "display_data",
          "data": {
            "text/plain": [
              "<Figure size 360x360 with 1 Axes>"
            ],
            "image/png": "[encoded data removed]"
          },
          "metadata": {
            "needs_background": "light"
          }
        },
        {
          "output_type": "stream",
          "name": "stdout",
          "text": [
            "R2: 0.9764915762876626\n"
          ]
        }
      ]
    },
    {
      "cell_type": "markdown",
      "source": [
        "Without Bias"
      ],
      "metadata": {
        "id": "sEPFxaDsJKGY"
      }
    },
    {
      "cell_type": "code",
      "source": [
        "MC_iterations = 15\n",
        "hidden_dim = 250\n",
        "\n",
        "prods_ = torch.zeros([new_x.shape[0]]).to(device)\n",
        "\n",
        "for m in tqdm(range(MC_iterations)):\n",
        "\n",
        "  model = rSig(input_channels = 3, hidden_channels = hidden_dim, bias = False)\n",
        "  \n",
        "  coeffs_x = torchcde.natural_cubic_coeffs(new_x).float()\n",
        "  sigs_x = model.forward(coeffs_x)\n",
        "\n",
        "  coeffs_y = torchcde.natural_cubic_coeffs(new_y).float()\n",
        "  sigs_y = model.forward(coeffs_y)\n",
        "\n",
        "  prods_ += torch.matmul(sigs_x.unsqueeze(-2),sigs_y.unsqueeze(-1)).squeeze(-1).squeeze(-1)\n",
        "\n",
        "prods_ = prods_/MC_iterations\n",
        "prods_ = prods_.cpu().detach().numpy()"
      ],
      "metadata": {
        "colab": {
          "base_uri": "https://localhost:8080/"
        },
        "id": "pnxddYPZJDn2",
        "outputId": "454e26e1-208c-45d3-8364-704bd324ccf2"
      },
      "execution_count": null,
      "outputs": [
        {
          "output_type": "stream",
          "name": "stderr",
          "text": [
            "100%|██████████| 15/15 [00:11<00:00,  1.32it/s]\n"
          ]
        }
      ]
    },
    {
      "cell_type": "code",
      "source": [
        "new_sk = sk\n",
        "new_prods = prods_\n",
        "\n",
        "plt.figure(figsize=(5,5))\n",
        "plt.scatter(new_sk, new_prods, edgecolors='blue', color='white')\n",
        "plt.plot(np.unique(new_sk), np.poly1d(np.polyfit(new_sk, new_prods, 1))(np.unique(new_sk)), color='blue', ls='--')\n",
        "plt.plot(np.unique(new_sk), np.unique(new_sk),'k-')\n",
        "plt.xlabel('True')\n",
        "plt.ylabel('Randomized.')\n",
        "plt.show()\n",
        "print('R2:', metrics.r2_score(new_sk, new_prods))"
      ],
      "metadata": {
        "colab": {
          "base_uri": "https://localhost:8080/",
          "height": 358
        },
        "id": "BuiBCtTdI_aD",
        "outputId": "552f18cf-85c3-408e-ed1d-5fb5205d99bc"
      },
      "execution_count": null,
      "outputs": [
        {
          "output_type": "display_data",
          "data": {
            "text/plain": [
              "<Figure size 360x360 with 1 Axes>"
            ],
            "image/png": "[encoded data removed]"
          },
          "metadata": {
            "needs_background": "light"
          }
        },
        {
          "output_type": "stream",
          "name": "stdout",
          "text": [
            "R2: 0.9879572489385599\n"
          ]
        }
      ]
    },
    {
      "cell_type": "markdown",
      "source": [
        "# RBF SigKer - Computation"
      ],
      "metadata": {
        "id": "AiFce0pok5iC"
      }
    },
    {
      "cell_type": "code",
      "source": [
        "# Specify the static kernel (for linear kernel use sigkernel.LinearKernel())\n",
        "sigma = 2.\n",
        "static_kernel = sigkernel.RBFKernel(sigma=sigma)\n",
        "\n",
        "# Specify dyadic order for PDE solver (int > 0, default 0, the higher the more accurate but slower)\n",
        "dyadic_order = 4\n",
        "\n",
        "# Initialize the corresponding signature kernel\n",
        "signature_kernel = sigkernel.SigKernel(static_kernel, dyadic_order)\n",
        "\n",
        "# Compute signature kernel \"batch-wise\" (i.e. k(x_1,y_1),...,k(x_batch, y_batch))\n",
        "sk = signature_kernel.compute_kernel(torch.tensor(x), torch.tensor(y))"
      ],
      "metadata": {
        "id": "YHeg-Ldvk47P"
      },
      "execution_count": 89,
      "outputs": []
    },
    {
      "cell_type": "code",
      "source": [
        "bins = 40\n",
        "hist = torch.histc(sk, bins=bins, min = sk.min(), max = sk.max())\n",
        "\n",
        "plt.bar(range(bins), hist, align='center')\n",
        "plt.xlabel('Bins')"
      ],
      "metadata": {
        "id": "cLHJxv-Ppaq3",
        "outputId": "7c530a41-eb31-4147-88cd-eccb2393afba",
        "colab": {
          "base_uri": "https://localhost:8080/",
          "height": 303
        }
      },
      "execution_count": 90,
      "outputs": [
        {
          "output_type": "execute_result",
          "data": {
            "text/plain": [
              "Text(0.5, 0, 'Bins')"
            ]
          },
          "metadata": {},
          "execution_count": 90
        },
        {
          "output_type": "display_data",
          "data": {
            "text/plain": [
              "<Figure size 432x288 with 1 Axes>"
            ],
            "image/png": "[encoded data removed]"
          },
          "metadata": {
            "needs_background": "light"
          }
        }
      ]
    },
    {
      "cell_type": "markdown",
      "source": [
        "# rSigKer w/ Fourier Features - Computation"
      ],
      "metadata": {
        "id": "qXRaHHQPlSFX"
      }
    },
    {
      "cell_type": "markdown",
      "source": [
        "The Fourier Features Feature map is, given $\\phi: \\mathbb{R}^n \\to \\mathbb{R}^M$ given by\n",
        "$$\n",
        "  \\phi(x) = \\sqrt{\\frac{2}{M}} \\cos(Wx + b)\n",
        "$$\n",
        "\n",
        "where the entries of $W \\in \\mathbb{R}^{M \\times n}$ are $\\mathcal{N}(0,1)$, the entries of $b \\in \\mathbb{R}^M$ are uniformly sampled from $[0,2\\pi]$ and $\\cos$ is applied componentwise."
      ],
      "metadata": {
        "id": "CdnuYpe7lqvL"
      }
    },
    {
      "cell_type": "code",
      "source": [
        "new_x = torch.tensor(x).float().to(device)\n",
        "new_y = torch.tensor(y).float().to(device)\n",
        "\n",
        "def phi(x,W,b): \n",
        "  return np.sqrt(2/M)*torch.cos(torch.matmul(W,x.unsqueeze(-1)).squeeze(-1) + b)"
      ],
      "metadata": {
        "id": "-DjLFR_FGsm8"
      },
      "execution_count": 91,
      "outputs": []
    },
    {
      "cell_type": "markdown",
      "source": [
        "Sampling once"
      ],
      "metadata": {
        "id": "Cu7qMN1FGdLM"
      }
    },
    {
      "cell_type": "code",
      "source": [
        "n = x.shape[-1]\n",
        "M = 10\n",
        "\n",
        "W = np.sqrt(2/sigma)*torch.normal(0.0, 1.0, size = (M, n)).to(device)\n",
        "b = 2*torch.pi*torch.rand(M).to(device)\n",
        "\n",
        "x_ = phi(new_x, W, b)\n",
        "y_ = phi(new_y, W, b)"
      ],
      "metadata": {
        "id": "p5e2goj2m0gt"
      },
      "execution_count": 82,
      "outputs": []
    },
    {
      "cell_type": "code",
      "source": [
        "MC_iterations = 15\n",
        "hidden_dim = 300\n",
        "\n",
        "prods = torch.zeros([new_x.shape[0]]).to(device)\n",
        "\n",
        "for m in tqdm(range(MC_iterations)):\n",
        "\n",
        "  model = rSig(input_channels = M, hidden_channels = hidden_dim)\n",
        "  \n",
        "  coeffs_x = torchcde.natural_cubic_coeffs(x_).float()\n",
        "  sigs_x = model.forward(coeffs_x)\n",
        "\n",
        "  coeffs_y = torchcde.natural_cubic_coeffs(y_).float()\n",
        "  sigs_y = model.forward(coeffs_y)\n",
        "\n",
        "  prods += torch.matmul(sigs_x.unsqueeze(-2),sigs_y.unsqueeze(-1)).squeeze(-1).squeeze(-1)\n",
        "\n",
        "prods = prods/MC_iterations\n",
        "prods = prods.cpu().detach().numpy()"
      ],
      "metadata": {
        "id": "y2NU5rQmGj_Y",
        "outputId": "57e833c7-31d3-4b66-81cf-9a2574eb67b2",
        "colab": {
          "base_uri": "https://localhost:8080/"
        }
      },
      "execution_count": 83,
      "outputs": [
        {
          "output_type": "stream",
          "name": "stderr",
          "text": [
            "100%|██████████| 15/15 [00:51<00:00,  3.46s/it]\n"
          ]
        }
      ]
    },
    {
      "cell_type": "code",
      "source": [
        "new_sk = sk\n",
        "new_prods = prods \n",
        "\n",
        "plt.figure(figsize=(5,5))\n",
        "plt.scatter(new_sk, new_prods, edgecolors='blue', color='white')\n",
        "plt.plot(np.unique(new_sk), np.poly1d(np.polyfit(new_sk, new_prods, 1))(np.unique(new_sk)), color='blue', ls='--')\n",
        "plt.plot(np.unique(new_sk), 2*np.unique(new_sk) - 1,'k-')\n",
        "plt.xlabel('True')\n",
        "plt.ylabel('Randomized.')\n",
        "plt.show()\n",
        "print('R2:', metrics.r2_score(2*new_sk-1, new_prods))"
      ],
      "metadata": {
        "id": "NdTTIlfJG7uH",
        "outputId": "e77383a4-61fb-48bc-fb6d-f83ada8a00e1",
        "colab": {
          "base_uri": "https://localhost:8080/",
          "height": 357
        }
      },
      "execution_count": 92,
      "outputs": [
        {
          "output_type": "display_data",
          "data": {
            "text/plain": [
              "<Figure size 360x360 with 1 Axes>"
            ],
            "image/png": "[encoded data removed]"
          },
          "metadata": {
            "needs_background": "light"
          }
        },
        {
          "output_type": "stream",
          "name": "stdout",
          "text": [
            "R2: -1.2616296541725966\n"
          ]
        }
      ]
    },
    {
      "cell_type": "markdown",
      "source": [
        "Resampling Each time"
      ],
      "metadata": {
        "id": "f2b1E-FUGhDn"
      }
    },
    {
      "cell_type": "code",
      "source": [
        "MC_iterations = 15\n",
        "hidden_dim = 300\n",
        "\n",
        "prods = torch.zeros([new_x.shape[0]]).to(device)\n",
        "\n",
        "for m in tqdm(range(MC_iterations)):\n",
        "\n",
        "  model = rSig(input_channels = M, hidden_channels = hidden_dim)\n",
        "\n",
        "  W = np.sqrt(2/sigma)*torch.normal(0.0, 1.0, size = (M, n)).to(device)\n",
        "  b = 2*torch.pi*torch.rand(M).to(device)\n",
        "\n",
        "  x_ = phi(new_x, W, b)\n",
        "  y_ = phi(new_y, W, b)\n",
        "  \n",
        "  coeffs_x = torchcde.natural_cubic_coeffs(x_).float()\n",
        "  sigs_x = model.forward(coeffs_x)\n",
        "\n",
        "  coeffs_y = torchcde.natural_cubic_coeffs(y_).float()\n",
        "  sigs_y = model.forward(coeffs_y)\n",
        "\n",
        "  prods += torch.matmul(sigs_x.unsqueeze(-2),sigs_y.unsqueeze(-1)).squeeze(-1).squeeze(-1)\n",
        "\n",
        "prods = prods/MC_iterations\n",
        "prods = prods.cpu().detach().numpy()"
      ],
      "metadata": {
        "id": "aUqbjJQNliAW",
        "outputId": "8f33a6d3-667e-483e-9fa8-4af5786d9220",
        "colab": {
          "base_uri": "https://localhost:8080/"
        }
      },
      "execution_count": 93,
      "outputs": [
        {
          "output_type": "stream",
          "name": "stderr",
          "text": [
            "100%|██████████| 15/15 [00:56<00:00,  3.79s/it]\n"
          ]
        }
      ]
    },
    {
      "cell_type": "code",
      "source": [
        "new_sk = sk\n",
        "new_prods = prods \n",
        "\n",
        "plt.figure(figsize=(5,5))\n",
        "plt.scatter(new_sk, new_prods, edgecolors='blue', color='white')\n",
        "plt.plot(np.unique(new_sk), np.poly1d(np.polyfit(new_sk, new_prods, 1))(np.unique(new_sk)), color='blue', ls='--')\n",
        "plt.plot(np.unique(new_sk), 2*np.unique(new_sk) - 1,'k-')\n",
        "plt.xlabel('True')\n",
        "plt.ylabel('Randomized.')\n",
        "plt.show()\n",
        "print('R2:', metrics.r2_score(2*new_sk-1, new_prods))"
      ],
      "metadata": {
        "id": "682OdaTwlkIT",
        "outputId": "48c52700-0f8c-4351-d4e3-a503e6b23648",
        "colab": {
          "base_uri": "https://localhost:8080/",
          "height": 357
        }
      },
      "execution_count": 94,
      "outputs": [
        {
          "output_type": "display_data",
          "data": {
            "text/plain": [
              "<Figure size 360x360 with 1 Axes>"
            ],
            "image/png": "[encoded data removed]"
          },
          "metadata": {
            "needs_background": "light"
          }
        },
        {
          "output_type": "stream",
          "name": "stdout",
          "text": [
            "R2: 0.944693662290986\n"
          ]
        }
      ]
    }
  ]
}