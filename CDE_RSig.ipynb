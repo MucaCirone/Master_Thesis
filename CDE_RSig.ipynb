{
  "nbformat": 4,
  "nbformat_minor": 0,
  "metadata": {
    "colab": {
      "name": "CDE_RSig.ipynb",
      "provenance": [],
      "collapsed_sections": [],
      "authorship_tag": "ABX9TyP4Kj2KbVjEQRh+/MmxiSwv",
      "include_colab_link": true
    },
    "kernelspec": {
      "name": "python3",
      "display_name": "Python 3"
    },
    "language_info": {
      "name": "python"
    },
    "accelerator": "GPU",
    "gpuClass": "standard"
  },
  "cells": [
    {
      "cell_type": "markdown",
      "metadata": {
        "id": "view-in-github",
        "colab_type": "text"
      },
      "source": [
        "<a href=\"https://colab.research.google.com/github/MucaCirone/Master_Thesis/blob/main/CDE_RSig.ipynb\" target=\"_parent\"><img src=\"https://colab.research.google.com/assets/colab-badge.svg\" alt=\"Open In Colab\"/></a>"
      ]
    },
    {
      "cell_type": "markdown",
      "source": [
        "# Libraries"
      ],
      "metadata": {
        "id": "aMMKR5ek0-54"
      }
    },
    {
      "cell_type": "code",
      "source": [
        "!pip install git+https://github.com/patrick-kidger/torchcde.git\n",
        "!pip install git+https://github.com/crispitagorico/sigkernel.git"
      ],
      "metadata": {
        "id": "Ic6jGSdMU33I"
      },
      "execution_count": null,
      "outputs": []
    },
    {
      "cell_type": "code",
      "execution_count": null,
      "metadata": {
        "id": "XcDN2cRNUIQp",
        "colab": {
          "base_uri": "https://localhost:8080/"
        },
        "outputId": "3ed0b49a-e96e-4f03-9ec5-e734d56a359b"
      },
      "outputs": [
        {
          "output_type": "stream",
          "name": "stdout",
          "text": [
            "cuda:0\n"
          ]
        }
      ],
      "source": [
        "import torch\n",
        "import torchcde\n",
        "\n",
        "import numpy as np\n",
        "import scipy as sp\n",
        "from matplotlib import pyplot as plt\n",
        "from scipy import linalg\n",
        "import random\n",
        "\n",
        "\n",
        "from sklearn.model_selection import train_test_split, GridSearchCV, TimeSeriesSplit\n",
        "from sklearn.metrics import mean_absolute_error\n",
        "from sklearn.svm import SVR\n",
        "\n",
        "import sigkernel\n",
        "\n",
        "device = torch.device(\"cuda:0\" if torch.cuda.is_available() else \"cpu\")\n",
        "print(device)"
      ]
    },
    {
      "cell_type": "code",
      "source": [
        "device = \"cpu\""
      ],
      "metadata": {
        "id": "eg-zzMkTVan1"
      },
      "execution_count": null,
      "outputs": []
    },
    {
      "cell_type": "markdown",
      "source": [
        "# rSig - CDE code"
      ],
      "metadata": {
        "id": "fyLshHsb1B4f"
      }
    },
    {
      "cell_type": "code",
      "source": [
        "def randomAbeta(n_vec: int, m: int, mean=0.0, sigma=0.03, distribution=torch.normal):\n",
        "    # Creates n_vec random mxm matrix A and mx1 vector beta\n",
        "    # Entries have distribution 'distribution'\n",
        "\n",
        "    A = []\n",
        "    beta = []\n",
        "    Gamma = []\n",
        "\n",
        "    for i in range(n_vec):\n",
        "        # B = 0.0*nilpotent(m) + np.random.normal(mean, sigma, size=(m, m))\n",
        "        B = distribution(mean, sigma, size=(m, m)).to(device)\n",
        "        A = A + [B]\n",
        "        b = distribution(mean, sigma, size=(1,m)).squeeze(0).to(device)\n",
        "        beta = beta + [b]\n",
        "        Gamma = Gamma + [torch.cat((B,b.unsqueeze(-1)),1)]\n",
        "\n",
        "\n",
        "    return [torch.stack(A),torch.stack(beta),torch.stack(Gamma)]"
      ],
      "metadata": {
        "id": "cAr7zf3FU3C0"
      },
      "execution_count": null,
      "outputs": []
    },
    {
      "cell_type": "code",
      "source": [
        "class DrivingFields(torch.nn.Module):\n",
        "    def __init__(self, input_channels, hidden_channels, sigma = 1.0):\n",
        "        ######################\n",
        "        # input_channels is the number of input channels in the data X. (Determined by the data.)\n",
        "        # hidden_channels is the number of channels for z_t. (Determined by you!)\n",
        "        ######################\n",
        "        super(DrivingFields, self).__init__()\n",
        "        self.input_channels = input_channels\n",
        "        self.hidden_channels = hidden_channels\n",
        "\n",
        "        _,_,self.Gamma = randomAbeta(input_channels,hidden_channels, sigma= sigma)\n",
        "      \n",
        "\n",
        "    def forward(self, t, z):\n",
        "        # z : (batch, hidden_channels)\n",
        "        batch = z.shape[0]\n",
        "        z = torch.cat((z, torch.ones([batch,1]).to(device)),1) # z -> [z,1]\n",
        "        z = z.unsqueeze(-2).unsqueeze(-1) # (batch,n+1) -> (batch,1,n+1,1)\n",
        "        G = self.Gamma.expand(1,-1,-1,-1) # (d, n, n+1) -> (1, d, n, n+1)\n",
        "        res = torch.matmul(G,z) # (batch, d, n, 1) \n",
        "        res = res.squeeze(-1) # (batch, d, n, 1) -> (batch, d, n)\n",
        "        res = torch.swapaxes(res, -2, -1) # (batch, d, n) -> (batch, n, d)\n",
        "        # res = res.sigmoid()\n",
        "        return res"
      ],
      "metadata": {
        "id": "rwZTTzg3UPeK"
      },
      "execution_count": null,
      "outputs": []
    },
    {
      "cell_type": "code",
      "source": [
        "######################\n",
        "# Next, we need to package CDEFunc up into a model that computes the integral.\n",
        "######################\n",
        "class rSig(torch.nn.Module):\n",
        "    def __init__(self, input_channels, hidden_channels):\n",
        "        super(rSig, self).__init__()\n",
        "        sigma = 1/np.sqrt(hidden_channels)\n",
        "\n",
        "        self.input_channels = input_channels\n",
        "        self.hidden_channels = hidden_channels\n",
        "        self.fields = DrivingFields(input_channels, hidden_channels, sigma)\n",
        "        self.z0 = sigma*torch.normal(0,1,size = [self.hidden_channels]).to(device)\n",
        "\n",
        "        \n",
        "\n",
        "    def forward(self, coeffs):\n",
        "        batch = coeffs.shape[0]\n",
        "        X = torchcde.interpolation_cubic.NaturalCubicSpline(coeffs)\n",
        "\n",
        "        ######################\n",
        "        # Easy to forget gotcha: Initial hidden state should be a function of the first observation.\n",
        "        ######################\n",
        "        X0 = X.evaluate(X.interval[0])\n",
        "        z0 = (self.z0).expand(batch, -1)\n",
        "\n",
        "        ######################\n",
        "        # Actually solve the CDE.\n",
        "        ######################\n",
        "        z_T = torchcde.cdeint(X=X,\n",
        "                              z0=z0,\n",
        "                              func=self.fields,\n",
        "                              t=X.interval)\n",
        "\n",
        "        ######################\n",
        "        # Both the initial value and the terminal value are returned from cdeint; extract just the terminal value,\n",
        "        # and then apply a linear map.\n",
        "        ######################\n",
        "        z_T = z_T[:, 1]\n",
        "        return z_T"
      ],
      "metadata": {
        "id": "cpD9P4zUhRjM"
      },
      "execution_count": null,
      "outputs": []
    },
    {
      "cell_type": "markdown",
      "source": [
        "# Toy Example"
      ],
      "metadata": {
        "id": "9B5TdJr204Z_"
      }
    },
    {
      "cell_type": "code",
      "source": [
        "timesteps = 4000\n",
        "d = 2\n",
        "\n",
        "t = torch.linspace(0., 1, timesteps)\n",
        "dt = t[1]\n",
        "x_ = torch.normal(0,torch.sqrt(dt),size = [timesteps-1, d])\n",
        "x_ = torch.cat((torch.zeros([1,d]).float(),x_),0)\n",
        "x_ = x_.cumsum(0)\n",
        "X = torch.cat((t.unsqueeze(1),x_),dim = 1).unsqueeze(0)\n",
        "X = X.to(device) # (batch, timesteps, d+1)\n",
        "\n",
        "plt.plot(x_[:,0],x_[:,1])"
      ],
      "metadata": {
        "colab": {
          "base_uri": "https://localhost:8080/",
          "height": 283
        },
        "id": "DIIxeC2Wi8Qq",
        "outputId": "e7bff0b5-cbe3-468b-ab60-09331d013bcd"
      },
      "execution_count": null,
      "outputs": [
        {
          "output_type": "execute_result",
          "data": {
            "text/plain": [
              "[<matplotlib.lines.Line2D at 0x7f28d7955dd0>]"
            ]
          },
          "metadata": {},
          "execution_count": 30
        },
        {
          "output_type": "display_data",
          "data": {
            "text/plain": [
              "<Figure size 432x288 with 1 Axes>"
            ],
            "image/png": "[encoded data removed]"
          },
          "metadata": {
            "needs_background": "light"
          }
        }
      ]
    },
    {
      "cell_type": "code",
      "source": [
        "X.shape"
      ],
      "metadata": {
        "colab": {
          "base_uri": "https://localhost:8080/"
        },
        "id": "Ve-J64VqyH5Y",
        "outputId": "a4dd35d6-4afd-4d68-a672-ac78704db20a"
      },
      "execution_count": null,
      "outputs": [
        {
          "output_type": "execute_result",
          "data": {
            "text/plain": [
              "torch.Size([1, 4000, 3])"
            ]
          },
          "metadata": {},
          "execution_count": 31
        }
      ]
    },
    {
      "cell_type": "code",
      "source": [
        "coeffs = torchcde.natural_cubic_coeffs(X)\n",
        "X_ = torchcde.interpolation_cubic.NaturalCubicSpline(coeffs)"
      ],
      "metadata": {
        "id": "CAvvTV47k2bZ"
      },
      "execution_count": null,
      "outputs": []
    },
    {
      "cell_type": "code",
      "source": [
        "model = rSig(input_channels=3, hidden_channels=8)\n",
        "model.forward(coeffs)"
      ],
      "metadata": {
        "colab": {
          "base_uri": "https://localhost:8080/"
        },
        "id": "fjY-EyRbqQ91",
        "outputId": "c8d1d6de-efb0-4356-f33e-68d0b773a471"
      },
      "execution_count": null,
      "outputs": [
        {
          "output_type": "execute_result",
          "data": {
            "text/plain": [
              "tensor([[ 0.7511, -0.1764,  0.8313, -0.3780, -0.0932,  0.1776, -0.3542,  0.2695]],\n",
              "       device='cuda:0')"
            ]
          },
          "metadata": {},
          "execution_count": 10
        }
      ]
    },
    {
      "cell_type": "markdown",
      "source": [
        "# Data"
      ],
      "metadata": {
        "id": "tPRzNAB3TxrQ"
      }
    },
    {
      "cell_type": "markdown",
      "source": [
        "Daily Bitcoin to USD prices data from https://www.cryptodatadownload.com/. \n",
        "\n",
        "Make sure to download the daily BTC/USD data from the page https://www.cryptodatadownload.com/data/gemini/ and to upload to your instance of colab. The file should be named \"*Gemini_BTCUSD_d.csv*\"."
      ],
      "metadata": {
        "id": "Kancc6BHCoIN"
      }
    },
    {
      "cell_type": "code",
      "source": [
        "def mean_absolute_percentage_error(y_true, y_pred): \n",
        "    return 100.*np.mean(np.abs((y_true - y_pred) / y_true)) \n",
        "\n",
        "#Helper function that extract rolling windows of historical prices of size h and means of the next future f prices.\n",
        "def GetWindow(x, h_window=30, f_window=10):\n",
        "\n",
        "    # First window\n",
        "    X = np.array(x.iloc[:h_window,]).reshape(1,-1) # first h_window elements as h_window x 1 np vector\n",
        "   \n",
        "    # Append next window\n",
        "    for i in range(1,len(x)-h_window+1):\n",
        "        x_i = np.array(x.iloc[i:i+h_window,]).reshape(1,-1)\n",
        "        X = np.append(X, x_i, axis=0)\n",
        "        \n",
        "    # Cut the end that we can't use to predict future price\n",
        "    rolling_window = (pd.DataFrame(X)).iloc[:-f_window,]\n",
        "    return rolling_window\n",
        "\n",
        "def GetNextMean(x, h_window=30, f_window=10):\n",
        "    return pd.DataFrame((x.rolling(f_window).mean().iloc[h_window+f_window-1:,]))\n",
        "\n",
        "def PlotResult(y_train, y_test, y_train_predict, y_test_predict, name):\n",
        "    \n",
        "    train_len = len(y_train)\n",
        "    test_len = len(y_test)\n",
        "    \n",
        "    #Visualise\n",
        "    fig, ax = plt.subplots(1, figsize=(12, 5))\n",
        "    ax.plot(y_train_predict,color='red')\n",
        "\n",
        "    ax.plot(range(train_len, train_len+test_len),\n",
        "            y_test_predict,\n",
        "            label='Predicted average price',\n",
        "            color='red',linestyle = '--')\n",
        "\n",
        "    ax.plot(np.array((y_train).append(y_test)),\n",
        "             label='Actual average price',\n",
        "             color='green')\n",
        "\n",
        "    ax.axvspan(len(y_train), len(y_train)+len(y_test),\n",
        "                alpha=0.3, color='lightgrey')\n",
        "\n",
        "    plt.grid(True)\n",
        "    plt.axis('tight')\n",
        "    plt.legend(loc=\"best\")\n",
        "    plt.xlabel('Days')\n",
        "    plt.ylabel('Bitcoin prices')\n",
        "    #plt.savefig('../pictures/bitcoin_prices_prediction_{}'.format(name))\n",
        "    plt.show()"
      ],
      "metadata": {
        "id": "eQNuun5bT0Sp"
      },
      "execution_count": null,
      "outputs": []
    },
    {
      "cell_type": "code",
      "source": [
        "import pandas as pd\n",
        "\n",
        "# load data (source is https://www.cryptodatadownload.com)\n",
        "BTC_price = pd.read_csv('/content/Gemini_BTCUSD_d.csv',header=1)\n",
        "\n",
        "# drop the first column and reverse order\n",
        "BTC_price = BTC_price.iloc[1:,:]\n",
        "BTC_price = BTC_price.iloc[::-1]\n",
        "BTC_price['date'] = pd.to_datetime(BTC_price['date'])\n",
        "BTC_price.set_index('date', inplace=True)\n",
        "\n",
        "# select duration\n",
        "initial_date = '2017-06-01'\n",
        "finish_date = '2018-08-01'\n",
        "BTC_price = BTC_price.loc[BTC_price.index >= initial_date]\n",
        "BTC_price = BTC_price.loc[BTC_price.index <= finish_date]"
      ],
      "metadata": {
        "id": "vyWz5ovBVJDz"
      },
      "execution_count": null,
      "outputs": []
    },
    {
      "cell_type": "code",
      "source": [
        "# use only close price\n",
        "close_price = BTC_price.loc[:,'close']\n",
        "close_price = pd.DataFrame(np.squeeze(close_price))\n",
        "\n",
        "# use last h_window observations to predict mean over next f_window observations\n",
        "h_window = 36\n",
        "f_window = 2\n",
        "\n",
        "# next mean price\n",
        "y = GetNextMean(close_price, h_window=h_window , f_window=f_window)\n",
        "\n",
        "# normal window features\n",
        "X_window = GetWindow(close_price, h_window, f_window).values\n",
        "X_window = torch.tensor(X_window, dtype=torch.float64)\n",
        "X_window = sigkernel.transform(X_window, at=True, ll=True, scale=1e-5)\n",
        "\n",
        "# train test split\n",
        "x_train, x_test, y_train, y_test = train_test_split(X_window, y, test_size=0.2, shuffle=False)\n",
        "x_train = torch.tensor(x_train, dtype=torch.float64).to(device)\n",
        "x_test = torch.tensor(x_test, dtype=torch.float64).to(device)\n",
        "\n",
        "# x_train.shape = (311, 71, 3)"
      ],
      "metadata": {
        "id": "Rb2EGg8xVgEI"
      },
      "execution_count": null,
      "outputs": []
    },
    {
      "cell_type": "markdown",
      "source": [
        "The price data has been augmented by adding a time dimension and a lead lag transformation (see Terry Lyons' \"*Rough paths, Signatures and the modelling of functions on streams*\" at https://arxiv.org/abs/1405.4537)"
      ],
      "metadata": {
        "id": "ZfnX9GkR0sdj"
      }
    },
    {
      "cell_type": "markdown",
      "source": [
        "# rSig"
      ],
      "metadata": {
        "id": "1NufsgFAx1qN"
      }
    },
    {
      "cell_type": "code",
      "source": [
        "from torch.nn.functional import normalize\n",
        "\n",
        "x_train_ = normalize(x_train, dim=2)\n",
        "x_test_ = normalize(x_test, dim=2)"
      ],
      "metadata": {
        "id": "EWhMM4q7z9PD"
      },
      "execution_count": null,
      "outputs": []
    },
    {
      "cell_type": "code",
      "source": [
        "# hyperparameters for grid search\n",
        "svr_parameters = {'C': np.logspace(0, 4, 5), 'gamma': np.logspace(-4, 4, 9)}"
      ],
      "metadata": {
        "id": "r0ry_jnQzJ1A"
      },
      "execution_count": null,
      "outputs": []
    },
    {
      "cell_type": "code",
      "source": [
        "MC_iterations = 15\n",
        "hidden_dim = 25"
      ],
      "metadata": {
        "id": "vVmjFjzSzHeO"
      },
      "execution_count": null,
      "outputs": []
    },
    {
      "cell_type": "code",
      "source": [
        "from tqdm import tqdm\n",
        "\n",
        "X = torch.cat([x_train_, x_test_],0)\n",
        "\n",
        "N = x_train_.shape[0]\n",
        "M = x_test_.shape[0]\n",
        "\n",
        "Gram_train = torch.zeros((MC_iterations, N, N)).to(device)\n",
        "Gram_test = torch.zeros((MC_iterations, M, N)).to(device)\n",
        "\n",
        "for m in tqdm(range(MC_iterations)):\n",
        "\n",
        "  model = rSig(input_channels = 3, hidden_channels = hidden_dim)\n",
        "\n",
        "  coeffs = torchcde.natural_cubic_coeffs(X).float()\n",
        "  S = model.forward(coeffs)\n",
        "\n",
        "  sigs_train = S[:N]\n",
        "  sigs_test = S[N:]\n",
        "\n",
        "  Gram_train[m] = sigs_train@sigs_train.T\n",
        "  Gram_test[m] = sigs_test@sigs_train.T\n",
        "\n",
        "Gram_train = torch.mean(Gram_train, dim=0).detach().cpu().numpy()\n",
        "Gram_test = torch.mean(Gram_test, dim=0).detach().cpu().numpy()\n",
        "\n",
        "# fit the model\n",
        "svr = SVR(kernel='precomputed')\n",
        "svr_pde = GridSearchCV(estimator=svr, param_grid=svr_parameters, cv=5, n_jobs=-1, verbose = 4)\n",
        "svr_pde.fit(Gram_train, np.squeeze(y_train))\n",
        "\n",
        "# predict\n",
        "y_train_predict = svr_pde.predict(Gram_train)\n",
        "y_test_predict = svr_pde.predict(Gram_test)  \n",
        "\n",
        "# calculate errors\n",
        "p_error_train = mean_absolute_percentage_error(np.array(y_train).reshape(-1,1), np.array(y_train_predict).reshape(-1,1))\n",
        "p_error_test = mean_absolute_percentage_error(np.array(y_test).reshape(-1,1), np.array(y_test_predict).reshape(-1,1))\n",
        "\n",
        "print(p_error_train)\n",
        "print(p_error_test)\n",
        "print(\"\")\n",
        "\n",
        "# plot results\n",
        "PlotResult(y_train, y_test, y_train_predict, y_test_predict, 'rSig')"
      ],
      "metadata": {
        "colab": {
          "base_uri": "https://localhost:8080/",
          "height": 423
        },
        "id": "fcYjvJ5h0ZY2",
        "outputId": "761fcab8-0d62-4926-a020-f3f25be41c96"
      },
      "execution_count": null,
      "outputs": [
        {
          "output_type": "stream",
          "name": "stderr",
          "text": [
            "100%|██████████| 15/15 [00:07<00:00,  2.14it/s]"
          ]
        },
        {
          "output_type": "stream",
          "name": "stdout",
          "text": [
            "Fitting 5 folds for each of 45 candidates, totalling 225 fits\n"
          ]
        },
        {
          "output_type": "stream",
          "name": "stderr",
          "text": [
            "\n"
          ]
        },
        {
          "output_type": "stream",
          "name": "stdout",
          "text": [
            "5.1104187521364945\n",
            "3.3806650525436734\n",
            "\n"
          ]
        },
        {
          "output_type": "display_data",
          "data": {
            "text/plain": [
              "<Figure size 864x360 with 1 Axes>"
            ],
            "image/png": "[encoded data removed]"
          },
          "metadata": {
            "needs_background": "light"
          }
        }
      ]
    }
  ]
}